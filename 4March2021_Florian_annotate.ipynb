{
  "nbformat": 4,
  "nbformat_minor": 0,
  "metadata": {
    "colab": {
      "name": "4March2021_Florian_annotate.ipynb",
      "provenance": []
    },
    "kernelspec": {
      "name": "python3",
      "display_name": "Python 3"
    }
  },
  "cells": [
    {
      "cell_type": "code",
      "metadata": {
        "colab": {
          "base_uri": "https://localhost:8080/"
        },
        "id": "G1E5TNG9-f3S",
        "outputId": "e6534eae-6059-4b2e-e8a0-2e7b1bbb0812"
      },
      "source": [
        "from google.colab import drive\n",
        "drive.mount(\"/content/drive\")"
      ],
      "execution_count": 1,
      "outputs": [
        {
          "output_type": "stream",
          "text": [
            "Mounted at /content/drive\n"
          ],
          "name": "stdout"
        }
      ]
    },
    {
      "cell_type": "code",
      "metadata": {
        "colab": {
          "base_uri": "https://localhost:8080/"
        },
        "id": "nnB_s2y2-wpq",
        "outputId": "0d1ee6b8-cd4e-4aed-ecf9-1fed5d4142ab"
      },
      "source": [
        "%cd /content/drive/Shareddrives/CARD/projects/iNDI/Data/Discovery\\ planning\\ phase/Informatics_Lirong/projects_lirong/Florian_data"
      ],
      "execution_count": 12,
      "outputs": [
        {
          "output_type": "stream",
          "text": [
            "/content/drive/Shareddrives/CARD/projects/iNDI/Data/Discovery planning phase/Informatics_Lirong/projects_lirong/Florian_data\n"
          ],
          "name": "stdout"
        }
      ]
    },
    {
      "cell_type": "code",
      "metadata": {
        "colab": {
          "base_uri": "https://localhost:8080/"
        },
        "id": "cQnASI8F_9FC",
        "outputId": "c1d3b6a7-3203-463c-c170-1deb0028d426"
      },
      "source": [
        "%ls -lth"
      ],
      "execution_count": 13,
      "outputs": [
        {
          "output_type": "stream",
          "text": [
            "total 14G\n",
            "-rw------- 1 root root 2.6K Mar  5 01:28 4March2021_Florian_annotate.ipynb\n",
            "-rw------- 1 root root  151 Jul 16  2020 Florian_data_June.gslides\n",
            "-rw------- 1 root root 647M Jul 13  2020 cortical_ngn2_exclude_heg.h5ad\n",
            "-rw------- 1 root root 728M Jul  8  2020 dopaminergic_exclude_heg.h5ad\n",
            "-rw------- 1 root root 671M Jul  8  2020 cortical_exclude_heg.h5ad\n",
            "drwx------ 2 root root 4.0K Jun 25  2020 \u001b[0m\u001b[01;34mwrite\u001b[0m/\n",
            "-rw------- 1 root root 1.2G Jun 23  2020 hypothalamic_exclude_heg.h5ad\n",
            "drwx------ 2 root root 4.0K Jun 23  2020 \u001b[01;34mdata\u001b[0m/\n",
            "-rw------- 1 root root 9.2K Jun 23  2020 panglao_rank_genes_groups.csv\n",
            "-rw------- 1 root root  165 Jun 17  2020 cluster.csv\n",
            "-rw------- 1 root root  385 Jun 17  2020 panglao_cluster.csv\n",
            "-rw------- 1 root root  359 Jun 17  2020 peng_cluster.csv\n",
            "-rw------- 1 root root  949 Jun 17  2020 comparison_two_annotation.csv\n",
            "-rw------- 1 root root  14K Jun 12  2020 hypothalamic_DE_0.6.csv\n",
            "drwx------ 2 root root 4.0K Jun 12  2020 \u001b[01;34mMay2020_integrate_3_analysis\u001b[0m/\n",
            "drwx------ 2 root root 4.0K Jun 12  2020 \u001b[01;34mJune2020_hypothalamic_analysis\u001b[0m/\n",
            "-rw------- 1 root root 1.2G Jun 11  2020 hypothalamic.h5ad\n",
            "-rw------- 1 root root 1.2G Jun 11  2020 hypothalamic_no_regressout.h5ad\n",
            "-rw------- 1 root root 2.4G May 29  2020 florian_concat_leiden.h5ad\n",
            "drwx------ 2 root root 4.0K May 26  2020 \u001b[01;34mtables\u001b[0m/\n",
            "-rw------- 1 root root 2.3G May 25  2020 florian_concat_pca.h5ad\n",
            "-rw------- 1 root root 1.7G May 25  2020 concat_florian_whole_donor_raw.h5ad\n",
            "-rw------- 1 root root 1.8G May 25  2020 florian_ipsc_whole_donor_raw.h5ad\n",
            "drwx------ 2 root root 4.0K May 25  2020 \u001b[01;34mcache\u001b[0m/\n",
            "-rw------- 1 root root  151 May 18  2020 Florian_data.gslides\n",
            "drwx------ 2 root root 4.0K May 17  2020 \u001b[01;34mvireo_cell_line_assignments\u001b[0m/\n",
            "drwx------ 2 root root 4.0K May 13  2020 \u001b[01;34mfigures\u001b[0m/\n",
            "-rw------- 1 root root 4.0K May 11  2020 scanpy_QC_basic_florian_cortical_dopamin_3_and_4.py\n",
            "-rw------- 1 root root 4.0K May 11  2020 scanpy_QC_basic_florian_cortial_dopamin_1_and_2.py\n",
            "-rw------- 1 root root 4.0K May 11  2020 scanpy_QC_basic_florian_hypothalamic_1_and_2.py\n",
            "-rw------- 1 root root 7.7K May  6  2020 run_scanpy_py_florian.ipynb\n",
            "-rw------- 1 root root  25K May  6  2020 scanpy_troubleshooting_regression_out_error.ipynb\n",
            "drwx------ 9 root root 4.0K May  5  2020 \u001b[01;34mcortical_dopaminergic_sample_1\u001b[0m/\n",
            "drwx------ 2 root root 4.0K May  5  2020 \u001b[01;34mcortical_dopaminergic_sample_2\u001b[0m/\n",
            "drwx------ 8 root root 4.0K May  5  2020 \u001b[01;34mcortical_dopaminergic_sample_3\u001b[0m/\n",
            "drwx------ 2 root root 4.0K May  5  2020 \u001b[01;34mcortical_dopaminergic_sample_4\u001b[0m/\n",
            "drwx------ 8 root root 4.0K May  5  2020 \u001b[01;34mhypothalamic_sample_1\u001b[0m/\n",
            "drwx------ 2 root root 4.0K May  5  2020 \u001b[01;34mhypothalamic_sample_2\u001b[0m/\n",
            "drwx------ 2 root root 4.0K May  5  2020 \u001b[01;34mAndrian\u001b[0m/\n"
          ],
          "name": "stdout"
        }
      ]
    },
    {
      "cell_type": "markdown",
      "metadata": {
        "id": "8ww4KJx3_zZN"
      },
      "source": [
        "# analyze three conditions separatly"
      ]
    },
    {
      "cell_type": "code",
      "metadata": {
        "colab": {
          "base_uri": "https://localhost:8080/"
        },
        "id": "Ny9btBty-8hz",
        "outputId": "68a7c200-96b5-498c-9a2f-69b19c26bf36"
      },
      "source": [
        "%ls -lth Florian_data/hypothalamic_sample_1/filtered_cellranger_matrix/"
      ],
      "execution_count": 11,
      "outputs": [
        {
          "output_type": "stream",
          "text": [
            "total 387M\n",
            "-rw------- 1 root root 194M May 11  2020 matrix.mtx.gz\n",
            "-rw------- 1 root root 298K May 11  2020 features.tsv.gz\n",
            "-rw------- 1 root root  49K May 11  2020 barcodes.tsv.gz\n",
            "-rw------- 1 root root 194M May  5  2020 hypothalamic_sample_1_filtered_cellranger_matrix.tar\n"
          ],
          "name": "stdout"
        }
      ]
    },
    {
      "cell_type": "code",
      "metadata": {
        "id": "tJYCLwAmAOdB"
      },
      "source": [
        "PATH_cor = \"cortical_dopaminergic_sample_1\"\n",
        "PATH_dop = \"cortical_dopaminergic_sample_3\"\n",
        "PATH_hyp = \"hypothalamic_sample_1\""
      ],
      "execution_count": 14,
      "outputs": []
    },
    {
      "cell_type": "code",
      "metadata": {
        "colab": {
          "base_uri": "https://localhost:8080/"
        },
        "id": "ApJaqfMMAL-L",
        "outputId": "4034c83e-bb95-4194-d803-2464b6d5cf1b"
      },
      "source": [
        "%%bash -s {PATH_cor} {PATH_dop} {PATH_hyp}\n",
        "for file in $1 $2 $3\n",
        "do\n",
        "echo \"process ${file}\"\n",
        "ls ${file}/filtered_cellranger_matrix\n",
        "done"
      ],
      "execution_count": 18,
      "outputs": [
        {
          "output_type": "stream",
          "text": [
            "process cortical_dopaminergic_sample_1\n",
            "barcodes.tsv.gz\n",
            "cortical_dopaminergic_sample_1_filtered_cellranger_matrix.tar\n",
            "features.tsv.gz\n",
            "matrix.mtx.gz\n",
            "process cortical_dopaminergic_sample_3\n",
            "barcodes.tsv.gz\n",
            "cortical_dopaminergic_sample_3_filtered_cellranger_matrix.tar\n",
            "features.tsv.gz\n",
            "matrix.mtx.gz\n",
            "process hypothalamic_sample_1\n",
            "barcodes.tsv.gz\n",
            "features.tsv.gz\n",
            "hypothalamic_sample_1_filtered_cellranger_matrix.tar\n",
            "matrix.mtx.gz\n"
          ],
          "name": "stdout"
        }
      ]
    },
    {
      "cell_type": "code",
      "metadata": {
        "id": "nmzP0LuC-896"
      },
      "source": [
        "module_path = \"/content/drive/MyDrive/scanpy_modules\""
      ],
      "execution_count": 19,
      "outputs": []
    },
    {
      "cell_type": "code",
      "metadata": {
        "colab": {
          "base_uri": "https://localhost:8080/"
        },
        "id": "rPgOF044BHhh",
        "outputId": "a2d49d0c-3beb-4317-9e5c-7a77b20509d5"
      },
      "source": [
        "%ls -lth {module_path}"
      ],
      "execution_count": 20,
      "outputs": [
        {
          "output_type": "stream",
          "text": [
            "total 38K\n",
            "drwx------ 2 root root 4.0K Mar  2 15:45 \u001b[0m\u001b[01;34mnotebooks\u001b[0m/\n",
            "drwx------ 2 root root 4.0K Mar  2 15:13 \u001b[01;34mnotes\u001b[0m/\n",
            "drwx------ 2 root root 4.0K Mar  2 15:13 \u001b[01;34mreference_markers\u001b[0m/\n",
            "-rw------- 1 root root 2.7K Feb 19 16:22 annotate_cluster_5.py\n",
            "-rw------- 1 root root 4.7K Feb 19 16:22 cluster_2.py\n",
            "-rw------- 1 root root 1.8K Feb 19 16:22 integrate.py\n",
            "-rw------- 1 root root 4.5K Feb 19 16:22 marker_gene_3.py\n",
            "-rw------- 1 root root 3.9K Feb 19 16:22 plot_markers_4.py\n",
            "-rw------- 1 root root 7.1K Feb 19 16:22 qc_1.py\n"
          ],
          "name": "stdout"
        }
      ]
    },
    {
      "cell_type": "code",
      "metadata": {
        "colab": {
          "base_uri": "https://localhost:8080/"
        },
        "id": "ZcJeGiD-BLYV",
        "outputId": "0117ddea-6ee3-417f-dce1-4ee2b6b122ef"
      },
      "source": [
        "!pip install scanpy==1.5.1\n",
        "!pip install leidenalg\n",
        "!pip install umap-learn==0.4.6"
      ],
      "execution_count": 21,
      "outputs": [
        {
          "output_type": "stream",
          "text": [
            "Collecting scanpy==1.5.1\n",
            "\u001b[?25l  Downloading https://files.pythonhosted.org/packages/eb/83/33131aeae2065c2ab89fd2c4d57ea47f4c87c85517c5dc8e359f37b76ed1/scanpy-1.5.1-py3-none-any.whl (7.2MB)\n",
            "\u001b[K     |████████████████████████████████| 7.2MB 5.4MB/s \n",
            "\u001b[?25hRequirement already satisfied: importlib-metadata>=0.7; python_version < \"3.8\" in /usr/local/lib/python3.7/dist-packages (from scanpy==1.5.1) (3.7.0)\n",
            "Requirement already satisfied: matplotlib>=3.1.2 in /usr/local/lib/python3.7/dist-packages (from scanpy==1.5.1) (3.2.2)\n",
            "Requirement already satisfied: seaborn in /usr/local/lib/python3.7/dist-packages (from scanpy==1.5.1) (0.11.1)\n",
            "Collecting setuptools-scm\n",
            "  Downloading https://files.pythonhosted.org/packages/6a/18/23ad8654c5c8d91d1238b2d52882e50152473f2bd2db0da60215b51f401b/setuptools_scm-5.0.2-py2.py3-none-any.whl\n",
            "Collecting legacy-api-wrap\n",
            "  Downloading https://files.pythonhosted.org/packages/a4/68/da997bc56bb69dcdcee4054f0bc42266909307b905389fbc54c9158f42da/legacy_api_wrap-1.2-py3-none-any.whl\n",
            "Requirement already satisfied: tables in /usr/local/lib/python3.7/dist-packages (from scanpy==1.5.1) (3.4.4)\n",
            "Requirement already satisfied: scikit-learn>=0.21.2 in /usr/local/lib/python3.7/dist-packages (from scanpy==1.5.1) (0.22.2.post1)\n",
            "Requirement already satisfied: scipy>=1.3 in /usr/local/lib/python3.7/dist-packages (from scanpy==1.5.1) (1.4.1)\n",
            "Requirement already satisfied: patsy in /usr/local/lib/python3.7/dist-packages (from scanpy==1.5.1) (0.5.1)\n",
            "Requirement already satisfied: joblib in /usr/local/lib/python3.7/dist-packages (from scanpy==1.5.1) (1.0.1)\n",
            "Requirement already satisfied: pandas>=0.21 in /usr/local/lib/python3.7/dist-packages (from scanpy==1.5.1) (1.1.5)\n",
            "Requirement already satisfied: networkx in /usr/local/lib/python3.7/dist-packages (from scanpy==1.5.1) (2.5)\n",
            "Requirement already satisfied: packaging in /usr/local/lib/python3.7/dist-packages (from scanpy==1.5.1) (20.9)\n",
            "Requirement already satisfied: natsort in /usr/local/lib/python3.7/dist-packages (from scanpy==1.5.1) (5.5.0)\n",
            "Requirement already satisfied: umap-learn>=0.3.10 in /usr/local/lib/python3.7/dist-packages (from scanpy==1.5.1) (0.5.1)\n",
            "Requirement already satisfied: statsmodels>=0.10.0rc2 in /usr/local/lib/python3.7/dist-packages (from scanpy==1.5.1) (0.10.2)\n",
            "Requirement already satisfied: numba>=0.41.0 in /usr/local/lib/python3.7/dist-packages (from scanpy==1.5.1) (0.51.2)\n",
            "Requirement already satisfied: tqdm in /usr/local/lib/python3.7/dist-packages (from scanpy==1.5.1) (4.41.1)\n",
            "Collecting anndata>=0.7\n",
            "\u001b[?25l  Downloading https://files.pythonhosted.org/packages/81/b1/743cc79f89d9db6dccbfb7e6000795acb218a6c6320b7a2337cad99bd047/anndata-0.7.5-py3-none-any.whl (119kB)\n",
            "\u001b[K     |████████████████████████████████| 122kB 31.9MB/s \n",
            "\u001b[?25hRequirement already satisfied: h5py>=2.10.0 in /usr/local/lib/python3.7/dist-packages (from scanpy==1.5.1) (2.10.0)\n",
            "Requirement already satisfied: typing-extensions>=3.6.4; python_version < \"3.8\" in /usr/local/lib/python3.7/dist-packages (from importlib-metadata>=0.7; python_version < \"3.8\"->scanpy==1.5.1) (3.7.4.3)\n",
            "Requirement already satisfied: zipp>=0.5 in /usr/local/lib/python3.7/dist-packages (from importlib-metadata>=0.7; python_version < \"3.8\"->scanpy==1.5.1) (3.4.0)\n",
            "Requirement already satisfied: cycler>=0.10 in /usr/local/lib/python3.7/dist-packages (from matplotlib>=3.1.2->scanpy==1.5.1) (0.10.0)\n",
            "Requirement already satisfied: python-dateutil>=2.1 in /usr/local/lib/python3.7/dist-packages (from matplotlib>=3.1.2->scanpy==1.5.1) (2.8.1)\n",
            "Requirement already satisfied: kiwisolver>=1.0.1 in /usr/local/lib/python3.7/dist-packages (from matplotlib>=3.1.2->scanpy==1.5.1) (1.3.1)\n",
            "Requirement already satisfied: pyparsing!=2.0.4,!=2.1.2,!=2.1.6,>=2.0.1 in /usr/local/lib/python3.7/dist-packages (from matplotlib>=3.1.2->scanpy==1.5.1) (2.4.7)\n",
            "Requirement already satisfied: numpy>=1.11 in /usr/local/lib/python3.7/dist-packages (from matplotlib>=3.1.2->scanpy==1.5.1) (1.19.5)\n",
            "Requirement already satisfied: setuptools in /usr/local/lib/python3.7/dist-packages (from setuptools-scm->scanpy==1.5.1) (54.0.0)\n",
            "Collecting get-version>=2.0.4\n",
            "\u001b[?25l  Downloading https://files.pythonhosted.org/packages/23/48/7610e884e62fff2183e7bc8592397c39a020267fb5147905fcd3f9cc820c/get_version-2.1-py3-none-any.whl (43kB)\n",
            "\u001b[K     |████████████████████████████████| 51kB 3.8MB/s \n",
            "\u001b[?25hRequirement already satisfied: numexpr>=2.5.2 in /usr/local/lib/python3.7/dist-packages (from tables->scanpy==1.5.1) (2.7.2)\n",
            "Requirement already satisfied: six>=1.9.0 in /usr/local/lib/python3.7/dist-packages (from tables->scanpy==1.5.1) (1.15.0)\n",
            "Requirement already satisfied: pytz>=2017.2 in /usr/local/lib/python3.7/dist-packages (from pandas>=0.21->scanpy==1.5.1) (2018.9)\n",
            "Requirement already satisfied: decorator>=4.3.0 in /usr/local/lib/python3.7/dist-packages (from networkx->scanpy==1.5.1) (4.4.2)\n",
            "Requirement already satisfied: pynndescent>=0.5 in /usr/local/lib/python3.7/dist-packages (from umap-learn>=0.3.10->scanpy==1.5.1) (0.5.2)\n",
            "Requirement already satisfied: llvmlite<0.35,>=0.34.0.dev0 in /usr/local/lib/python3.7/dist-packages (from numba>=0.41.0->scanpy==1.5.1) (0.34.0)\n",
            "Installing collected packages: setuptools-scm, get-version, legacy-api-wrap, anndata, scanpy\n",
            "Successfully installed anndata-0.7.5 get-version-2.1 legacy-api-wrap-1.2 scanpy-1.5.1 setuptools-scm-5.0.2\n",
            "Collecting leidenalg\n",
            "\u001b[?25l  Downloading https://files.pythonhosted.org/packages/70/68/3f7c56da3e7ac576e5e090f2a7e8637f96e4a790688dbee63b938530ef15/leidenalg-0.8.3-cp37-cp37m-manylinux2010_x86_64.whl (2.4MB)\n",
            "\u001b[K     |████████████████████████████████| 2.4MB 5.7MB/s \n",
            "\u001b[?25hCollecting python-igraph>=0.8.0\n",
            "\u001b[?25l  Downloading https://files.pythonhosted.org/packages/ed/dd/debbb217cc6e128a7f9e788db36fcdce2c313611bb98cae1a73b65fab8a6/python_igraph-0.9.0-cp37-cp37m-manylinux2010_x86_64.whl (3.1MB)\n",
            "\u001b[K     |████████████████████████████████| 3.1MB 33.0MB/s \n",
            "\u001b[?25hCollecting texttable>=1.6.2\n",
            "  Downloading https://files.pythonhosted.org/packages/06/f5/46201c428aebe0eecfa83df66bf3e6caa29659dbac5a56ddfd83cae0d4a4/texttable-1.6.3-py2.py3-none-any.whl\n",
            "Installing collected packages: texttable, python-igraph, leidenalg\n",
            "Successfully installed leidenalg-0.8.3 python-igraph-0.9.0 texttable-1.6.3\n",
            "Collecting umap-learn==0.4.6\n",
            "\u001b[?25l  Downloading https://files.pythonhosted.org/packages/ac/21/e1eb2eb1c624a84f4a23237adb974e94ff7371ee8c178d246194af83fb80/umap-learn-0.4.6.tar.gz (69kB)\n",
            "\u001b[K     |████████████████████████████████| 71kB 3.1MB/s \n",
            "\u001b[?25hRequirement already satisfied: numpy>=1.17 in /usr/local/lib/python3.7/dist-packages (from umap-learn==0.4.6) (1.19.5)\n",
            "Requirement already satisfied: scikit-learn>=0.20 in /usr/local/lib/python3.7/dist-packages (from umap-learn==0.4.6) (0.22.2.post1)\n",
            "Requirement already satisfied: scipy>=1.3.1 in /usr/local/lib/python3.7/dist-packages (from umap-learn==0.4.6) (1.4.1)\n",
            "Requirement already satisfied: numba!=0.47,>=0.46 in /usr/local/lib/python3.7/dist-packages (from umap-learn==0.4.6) (0.51.2)\n",
            "Requirement already satisfied: joblib>=0.11 in /usr/local/lib/python3.7/dist-packages (from scikit-learn>=0.20->umap-learn==0.4.6) (1.0.1)\n",
            "Requirement already satisfied: llvmlite<0.35,>=0.34.0.dev0 in /usr/local/lib/python3.7/dist-packages (from numba!=0.47,>=0.46->umap-learn==0.4.6) (0.34.0)\n",
            "Requirement already satisfied: setuptools in /usr/local/lib/python3.7/dist-packages (from numba!=0.47,>=0.46->umap-learn==0.4.6) (54.0.0)\n",
            "Building wheels for collected packages: umap-learn\n",
            "  Building wheel for umap-learn (setup.py) ... \u001b[?25l\u001b[?25hdone\n",
            "  Created wheel for umap-learn: filename=umap_learn-0.4.6-cp37-none-any.whl size=67950 sha256=20a9f3bb4ce0b7eb8b97d93c5525c1b2e895f8b55b5a3ae75ac3c72ded286e7a\n",
            "  Stored in directory: /root/.cache/pip/wheels/7d/1d/03/34aade9a9b97acddb8e93654eb856dadbf0964406eef8b96e2\n",
            "Successfully built umap-learn\n",
            "Installing collected packages: umap-learn\n",
            "  Found existing installation: umap-learn 0.5.1\n",
            "    Uninstalling umap-learn-0.5.1:\n",
            "      Successfully uninstalled umap-learn-0.5.1\n",
            "Successfully installed umap-learn-0.4.6\n"
          ],
          "name": "stdout"
        }
      ]
    },
    {
      "cell_type": "code",
      "metadata": {
        "colab": {
          "base_uri": "https://localhost:8080/"
        },
        "id": "h0G3T8JoBUqL",
        "outputId": "25c310a6-cb91-4d7f-b0a0-7a564f02f782"
      },
      "source": [
        "import h5py\n",
        "import numpy as np\n",
        "import pandas as pd\n",
        "import scanpy as sc\n",
        "import matplotlib.pyplot as plt\n",
        "import seaborn as sns\n",
        "import warnings\n",
        "warnings.filterwarnings(\"ignore\")\n",
        "\n",
        "pd.set_option(\"display.precision\", 2)\n",
        "\n",
        "sc.settings.verbosity = 3\n",
        "sc.logging.print_versions() # use in version 1.5\n",
        "#sc.logging.print_header() # use in version 1.7\n",
        "sc.settings.set_figure_params(dpi=80)"
      ],
      "execution_count": 22,
      "outputs": [
        {
          "output_type": "stream",
          "text": [
            "scanpy==1.5.1 anndata==0.7.5 umap==0.5.1 numpy==1.19.5 scipy==1.4.1 pandas==1.1.5 scikit-learn==0.22.2.post1 statsmodels==0.10.2 python-igraph==0.9.0 leidenalg==0.8.3\n"
          ],
          "name": "stdout"
        }
      ]
    },
    {
      "cell_type": "code",
      "metadata": {
        "id": "fUhc68_LB4Rr"
      },
      "source": [
        "# hypthalamics: 10000, 15\n",
        "# cortical: 7500, 15\n",
        "# dopaminergic:5500, 15"
      ],
      "execution_count": null,
      "outputs": []
    },
    {
      "cell_type": "code",
      "metadata": {
        "id": "RW-YoWo3C-XE"
      },
      "source": [
        "%%bash\n",
        "for item in cortical dopaminergic hypothalamic\n",
        "do\n",
        "mkdir -p annotate/${item}\n",
        "done"
      ],
      "execution_count": 23,
      "outputs": []
    },
    {
      "cell_type": "code",
      "metadata": {
        "colab": {
          "base_uri": "https://localhost:8080/"
        },
        "id": "Q8WJQqfiDaa1",
        "outputId": "cd5a59be-9675-495b-a1f3-c06ea1c0bdbe"
      },
      "source": [
        "%cd annotate/cortical"
      ],
      "execution_count": 28,
      "outputs": [
        {
          "output_type": "stream",
          "text": [
            "/content/drive/Shareddrives/CARD/projects/iNDI/Data/Discovery planning phase/Informatics_Lirong/projects_lirong/Florian_data/annotate/cortical\n"
          ],
          "name": "stdout"
        }
      ]
    },
    {
      "cell_type": "code",
      "metadata": {
        "colab": {
          "base_uri": "https://localhost:8080/"
        },
        "id": "uxuSIwaGDV41",
        "outputId": "ea4f6a4f-b2f1-40ce-a6d2-370506ce772f"
      },
      "source": [
        "%ls -lth {module_path}/notes/"
      ],
      "execution_count": 34,
      "outputs": [
        {
          "output_type": "stream",
          "text": [
            "total 26K\n",
            "-rw------- 1 root root 2.2K Mar  4 15:28 3March2021_run_scanpy_iPSC.sh\n",
            "-rw------- 1 root root 2.2K Mar  3 16:00 3March2021_run_scanpy_concat_NGN2_NIL_iPSC.sh\n",
            "-rw------- 1 root root 2.2K Mar  3 16:00 4March2021_run_scanpy_Florian_cortical.sh\n",
            "-rw------- 1 root root 2.2K Mar  3 16:00 4March2021_run_scanpy_Florian_dopaminergicsh.sh\n",
            "-rw------- 1 root root 2.2K Mar  3 16:00 4March2021_run_scanpy_Florian_hypothalamic.sh\n",
            "-rw------- 1 root root 2.2K Mar  3 15:39 2March2021_run_scanpy_concat_NGN2.sh\n",
            "-rw------- 1 root root 2.2K Mar  3 15:38 3March2021_run_scanpy_concat_NIL.sh\n",
            "drwx------ 2 root root 4.0K Mar  2 15:45 \u001b[0m\u001b[01;34mnotes_brain_vs_ipsc\u001b[0m/\n",
            "drwx------ 2 root root 4.0K Mar  2 15:44 \u001b[01;34mnotes_SMAD\u001b[0m/\n"
          ],
          "name": "stdout"
        }
      ]
    },
    {
      "cell_type": "code",
      "metadata": {
        "colab": {
          "base_uri": "https://localhost:8080/"
        },
        "id": "LOwQygNeGbQN",
        "outputId": "10f512e2-bea8-408f-a40f-0dcfee85b85d"
      },
      "source": [
        "%ls -lth  ../../{PATH_cor}/"
      ],
      "execution_count": 41,
      "outputs": [
        {
          "output_type": "stream",
          "text": [
            "total 4.9M\n",
            "drwx------ 2 root root 4.0K May 11  2020 \u001b[0m\u001b[01;34mfiltered_cellranger_matrix\u001b[0m/\n",
            "drwx------ 2 root root 4.0K May  7  2020 \u001b[01;34mcellSNP\u001b[0m/\n",
            "drwx------ 2 root root 4.0K May  6  2020 \u001b[01;34mcache\u001b[0m/\n",
            "-rw------- 1 root root 4.9M May  6  2020 scanpy_florian_cortical_doma_1.ipynb\n",
            "drwx------ 2 root root 4.0K May  6  2020 \u001b[01;34mfigures\u001b[0m/\n",
            "drwx------ 2 root root 4.0K May  5  2020 \u001b[01;34mcellSNP_out\u001b[0m/\n",
            "drwx------ 2 root root 4.0K May  5  2020 \u001b[01;34mscanpy_out\u001b[0m/\n",
            "drwx------ 2 root root 4.0K May  5  2020 \u001b[01;34mvireo_out\u001b[0m/\n"
          ],
          "name": "stdout"
        }
      ]
    },
    {
      "cell_type": "markdown",
      "metadata": {
        "id": "ZLq55D7RQny1"
      },
      "source": [
        "# Process the cortical_1"
      ]
    },
    {
      "cell_type": "code",
      "metadata": {
        "colab": {
          "base_uri": "https://localhost:8080/"
        },
        "id": "uobLoiAfDkhQ",
        "outputId": "06e9c733-b148-4aa4-818a-33493204b590"
      },
      "source": [
        "RUN_SH=\"4March2021_run_scanpy_Florian_cortical.sh\"\n",
        "!bash {module_path}/notes/{RUN_SH} ../../{PATH_cor}/filtered_cellranger_matrix"
      ],
      "execution_count": 43,
      "outputs": [
        {
          "output_type": "stream",
          "text": [
            "Processing ../../cortical_dopaminergic_sample_1/filtered_cellranger_matrix\n",
            "The arguments are:  Namespace(color_gene='MAP2', dpi=80, exclude_highly_expressed=True, figsize=None, figure_type='pdf', input='../../cortical_dopaminergic_sample_1/filtered_cellranger_matrix', min_cells=3, min_genes=200, n_genes_by_counts=7000, n_top=20, out='count_after_QC', pct_counts_mt=20.0, project='', show=False)\n",
            "\n",
            "exclude_highly_expressed is  True\n",
            "\n",
            "scanpy==1.5.1 anndata==0.7.5 umap==0.4.6 numpy==1.19.5 scipy==1.4.1 pandas==1.1.5 scikit-learn==0.22.2.post1 statsmodels==0.10.2 python-igraph==0.9.0 leidenalg==0.8.3\n",
            "Running Scanpy 1.5.1, on 2021-03-05 01:59.\n",
            "... writing an h5ad cache file to speedup reading next time\n",
            "normalizing counts per cell\n",
            "    finished (0:00:00)\n",
            "WARNING: saving figure to file figures/highest_expr_genes.pdf\n",
            "filtered out 12489 genes that are detected in less than 3 cells\n",
            "... storing 'feature_types' as categorical\n",
            "/usr/local/lib/python3.7/dist-packages/seaborn/_core.py:1319: UserWarning: Vertical orientation ignored with only `x` specified.\n",
            "  warnings.warn(single_var_warning.format(\"Vertical\", \"x\"))\n",
            "/usr/local/lib/python3.7/dist-packages/seaborn/_core.py:1319: UserWarning: Vertical orientation ignored with only `x` specified.\n",
            "  warnings.warn(single_var_warning.format(\"Vertical\", \"x\"))\n",
            "/usr/local/lib/python3.7/dist-packages/seaborn/_core.py:1319: UserWarning: Vertical orientation ignored with only `x` specified.\n",
            "  warnings.warn(single_var_warning.format(\"Vertical\", \"x\"))\n",
            "/usr/local/lib/python3.7/dist-packages/seaborn/_core.py:1319: UserWarning: Vertical orientation ignored with only `x` specified.\n",
            "  warnings.warn(single_var_warning.format(\"Vertical\", \"x\"))\n",
            "/usr/local/lib/python3.7/dist-packages/seaborn/_core.py:1319: UserWarning: Vertical orientation ignored with only `x` specified.\n",
            "  warnings.warn(single_var_warning.format(\"Vertical\", \"x\"))\n",
            "/usr/local/lib/python3.7/dist-packages/seaborn/_core.py:1319: UserWarning: Vertical orientation ignored with only `x` specified.\n",
            "  warnings.warn(single_var_warning.format(\"Vertical\", \"x\"))\n",
            "WARNING: saving figure to file figures/violin_qc.pdf\n",
            "WARNING: saving figure to file figures/scatter1.pdf\n",
            "WARNING: saving figure to file figures/scatter2.pdf\n",
            "/usr/local/lib/python3.7/dist-packages/scanpy/preprocessing/_normalization.py:138: UserWarning: Revieved a view of an AnnData. Making a copy.\n",
            "  view_to_actual(adata)\n",
            "normalizing counts per cell The following highly-expressed genes are not considered during normalization factor computation:\n",
            "['MALAT1', 'TTR']\n",
            "    finished (0:00:00)\n",
            "extracting highly variable genes\n",
            "    finished (0:00:01)\n",
            "--> added\n",
            "    'highly_variable', boolean vector (adata.var)\n",
            "    'means', float vector (adata.var)\n",
            "    'dispersions', float vector (adata.var)\n",
            "    'dispersions_norm', float vector (adata.var)\n",
            "WARNING: saving figure to file figures/filter_genes_dispersion.pdf\n",
            "regressing out ['total_counts', 'pct_counts_mt']\n",
            "    sparse input is densified and may lead to high memory use\n",
            "/usr/local/lib/python3.7/dist-packages/statsmodels/tools/_testing.py:19: FutureWarning: pandas.util.testing is deprecated. Use the functions in the public API at pandas.testing instead.\n",
            "  import pandas.util.testing as tm\n",
            "    finished (0:00:43)\n",
            "computing PCA\n",
            "    on highly variable genes\n",
            "    with n_comps=50\n",
            "    finished (0:00:10)\n",
            "WARNING: saving figure to file figures/pca.pdf\n",
            "WARNING: saving figure to file figures/pca_variance_ratio.pdf\n",
            "finished QC\n",
            "+++++++++++++++\n",
            "Running Scanpy 1.5.1, on 2021-03-05 02:02.\n",
            "scanpy==1.5.1 anndata==0.7.5 umap==0.4.6 numpy==1.19.5 scipy==1.4.1 pandas==1.1.5 scikit-learn==0.22.2.post1 statsmodels==0.10.2 python-igraph==0.9.0 leidenalg==0.8.3\n",
            "computing neighbors\n",
            "    using 'X_pca' with n_pcs = 50\n",
            "    finished: added to `.uns['neighbors']`\n",
            "    `.obsp['distances']`, distances for each pair of neighbors\n",
            "    `.obsp['connectivities']`, weighted adjacency matrix (0:00:24)\n",
            "computing UMAP\n",
            "    finished: added\n",
            "    'X_umap', UMAP coordinates (adata.obsm) (0:00:08)\n",
            "running Leiden clustering\n",
            "    finished: found 19 clusters and added\n",
            "    'leiden', the cluster labels (adata.obs, categorical) (0:00:00)\n",
            "WARNING: saving figure to file figures/umap_after_leiden.pdf\n",
            "\n",
            "The arguments are Namespace(color_gene='leiden', dpi=80, figsize=None, figure_type='pdf', func=<function cluster at 0x7efd7f4a2170>, input='count_after_QC.h5ad', key_added='leiden', method='umap', metric='euclidean', n_neighbors=15, n_pcs=None, out='after_leiden.h5ad', project='', resolution=1.0, show=False)\n",
            "Running Scanpy 1.5.1, on 2021-03-05 02:03.\n",
            "scanpy==1.5.1 anndata==0.7.5 umap==0.4.6 numpy==1.19.5 scipy==1.4.1 pandas==1.1.5 scikit-learn==0.22.2.post1 statsmodels==0.10.2 python-igraph==0.9.0 leidenalg==0.8.3\n",
            "computing neighbors\n",
            "    using 'X_pca' with n_pcs = 50\n",
            "    finished: added to `.uns['neighbors']`\n",
            "    `.obsp['distances']`, distances for each pair of neighbors\n",
            "    `.obsp['connectivities']`, weighted adjacency matrix (0:00:21)\n",
            "computing UMAP\n",
            "    finished: added\n",
            "    'X_umap', UMAP coordinates (adata.obsm) (0:00:07)\n",
            "running Leiden clustering\n",
            "    finished: found 7 clusters and added\n",
            "    'leiden_0.2', the cluster labels (adata.obs, categorical) (0:00:00)\n",
            "WARNING: saving figure to file figures/umap_after_leiden_2r.pdf\n",
            "<Figure size 772.8x320 with 2 Axes>\n",
            "\n",
            "The arguments are Namespace(color_gene=['leiden_0.2', 'leiden'], dpi=80, figsize=None, figure_type='pdf', func=<function cluster at 0x7fb583d73170>, input='after_leiden.h5ad', key_added='leiden_0.2', method='umap', metric='euclidean', n_neighbors=15, n_pcs=None, out='after_leiden.h5ad', project='2r', resolution=0.2, show=None)\n",
            "Running Scanpy 1.5.1, on 2021-03-05 02:04.\n",
            "scanpy==1.5.1 anndata==0.7.5 umap==0.4.6 numpy==1.19.5 scipy==1.4.1 pandas==1.1.5 scikit-learn==0.22.2.post1 statsmodels==0.10.2 python-igraph==0.9.0 leidenalg==0.8.3\n",
            "computing neighbors\n",
            "    using 'X_pca' with n_pcs = 50\n",
            "    finished: added to `.uns['neighbors']`\n",
            "    `.obsp['distances']`, distances for each pair of neighbors\n",
            "    `.obsp['connectivities']`, weighted adjacency matrix (0:00:20)\n",
            "computing UMAP\n",
            "    finished: added\n",
            "    'X_umap', UMAP coordinates (adata.obsm) (0:00:07)\n",
            "running Leiden clustering\n",
            "    finished: found 10 clusters and added\n",
            "    'leiden_0.4', the cluster labels (adata.obs, categorical) (0:00:00)\n",
            "WARNING: saving figure to file figures/umap_after_leiden_3r.pdf\n",
            "<Figure size 1159.2x320 with 3 Axes>\n",
            "\n",
            "The arguments are Namespace(color_gene=['leiden_0.2', 'leiden_0.4', 'leiden'], dpi=80, figsize=None, figure_type='pdf', func=<function cluster at 0x7f77b31f7170>, input='after_leiden.h5ad', key_added='leiden_0.4', method='umap', metric='euclidean', n_neighbors=15, n_pcs=None, out='after_leiden.h5ad', project='3r', resolution=0.4, show=None)\n",
            "Running Scanpy 1.5.1, on 2021-03-05 02:05.\n",
            "scanpy==1.5.1 anndata==0.7.5 umap==0.4.6 numpy==1.19.5 scipy==1.4.1 pandas==1.1.5 scikit-learn==0.22.2.post1 statsmodels==0.10.2 python-igraph==0.9.0 leidenalg==0.8.3\n",
            "computing neighbors\n",
            "    using 'X_pca' with n_pcs = 50\n",
            "    finished: added to `.uns['neighbors']`\n",
            "    `.obsp['distances']`, distances for each pair of neighbors\n",
            "    `.obsp['connectivities']`, weighted adjacency matrix (0:00:21)\n",
            "computing UMAP\n",
            "    finished: added\n",
            "    'X_umap', UMAP coordinates (adata.obsm) (0:00:08)\n",
            "running Leiden clustering\n",
            "    finished: found 15 clusters and added\n",
            "    'leiden_0.6', the cluster labels (adata.obs, categorical) (0:00:01)\n",
            "WARNING: saving figure to file figures/umap_after_leiden_4r.pdf\n",
            "<Figure size 1545.6x320 with 4 Axes>\n",
            "\n",
            "The arguments are Namespace(color_gene=['leiden_0.2', 'leiden_0.4', 'leiden_0.6', 'leiden'], dpi=80, figsize=None, figure_type='pdf', func=<function cluster at 0x7fba81bed170>, input='after_leiden.h5ad', key_added='leiden_0.6', method='umap', metric='euclidean', n_neighbors=15, n_pcs=None, out='after_leiden.h5ad', project='4r', resolution=0.6, show=None)\n",
            "finished clustering\n",
            "+++++++++++++++\n",
            "scanpy==1.5.1 anndata==0.7.5 umap==0.4.6 numpy==1.19.5 scipy==1.4.1 pandas==1.1.5 scikit-learn==0.22.2.post1 statsmodels==0.10.2 python-igraph==0.9.0 leidenalg==0.8.3\n",
            "Running Scanpy 1.5.1, on 2021-03-05 02:06.\n",
            "ranking genes\n",
            "/usr/local/lib/python3.7/dist-packages/statsmodels/tools/_testing.py:19: FutureWarning: pandas.util.testing is deprecated. Use the functions in the public API at pandas.testing instead.\n",
            "  import pandas.util.testing as tm\n",
            "    finished (0:00:21)\n",
            "WARNING: saving figure to file figures/rank_genes_groups_leiden.pdf\n",
            "\n",
            "The arguments are:  Namespace(corr_method='benjamini-hochberg', dpi=80, export_num=50, figsize=None, figure_type='pdf', func=<function markers at 0x7f5a7aa12440>, groupby='leiden', groups='all', input='after_leiden.h5ad', key_added=None, method='wilcoxon', n_genes=25, out='after_ranking_gene.h5ad', project='', reference='rest', show=False)\n",
            "scanpy==1.5.1 anndata==0.7.5 umap==0.4.6 numpy==1.19.5 scipy==1.4.1 pandas==1.1.5 scikit-learn==0.22.2.post1 statsmodels==0.10.2 python-igraph==0.9.0 leidenalg==0.8.3\n",
            "Running Scanpy 1.5.1, on 2021-03-05 02:07.\n",
            "ranking genes\n",
            "/usr/local/lib/python3.7/dist-packages/statsmodels/tools/_testing.py:19: FutureWarning: pandas.util.testing is deprecated. Use the functions in the public API at pandas.testing instead.\n",
            "  import pandas.util.testing as tm\n",
            "    finished (0:00:16)\n",
            "WARNING: saving figure to file figures/rank_genes_groups_leiden_0.2.pdf\n",
            "<Figure size 1280x640 with 7 Axes>\n",
            "\n",
            "The arguments are:  Namespace(corr_method='benjamini-hochberg', dpi=80, export_num=50, figsize=None, figure_type='pdf', func=<function markers at 0x7fd8d33e7440>, groupby='leiden_0.2', groups='all', input='after_ranking_gene.h5ad', key_added='rank_genes_groups_r0.2', method='wilcoxon', n_genes=25, out='after_ranking_gene.h5ad', project='', reference='rest', show=None)\n",
            "scanpy==1.5.1 anndata==0.7.5 umap==0.4.6 numpy==1.19.5 scipy==1.4.1 pandas==1.1.5 scikit-learn==0.22.2.post1 statsmodels==0.10.2 python-igraph==0.9.0 leidenalg==0.8.3\n",
            "Running Scanpy 1.5.1, on 2021-03-05 02:08.\n",
            "ranking genes\n",
            "/usr/local/lib/python3.7/dist-packages/statsmodels/tools/_testing.py:19: FutureWarning: pandas.util.testing is deprecated. Use the functions in the public API at pandas.testing instead.\n",
            "  import pandas.util.testing as tm\n",
            "    finished (0:00:18)\n",
            "WARNING: saving figure to file figures/rank_genes_groups_leiden_0.4.pdf\n",
            "<Figure size 1280x960 with 10 Axes>\n",
            "\n",
            "The arguments are:  Namespace(corr_method='benjamini-hochberg', dpi=80, export_num=50, figsize=None, figure_type='pdf', func=<function markers at 0x7f40568ab440>, groupby='leiden_0.4', groups='all', input='after_ranking_gene.h5ad', key_added='rank_genes_groups_r0.4', method='wilcoxon', n_genes=25, out='after_ranking_gene.h5ad', project='', reference='rest', show=None)\n",
            "scanpy==1.5.1 anndata==0.7.5 umap==0.4.6 numpy==1.19.5 scipy==1.4.1 pandas==1.1.5 scikit-learn==0.22.2.post1 statsmodels==0.10.2 python-igraph==0.9.0 leidenalg==0.8.3\n",
            "Running Scanpy 1.5.1, on 2021-03-05 02:08.\n",
            "ranking genes\n",
            "/usr/local/lib/python3.7/dist-packages/statsmodels/tools/_testing.py:19: FutureWarning: pandas.util.testing is deprecated. Use the functions in the public API at pandas.testing instead.\n",
            "  import pandas.util.testing as tm\n",
            "    finished (0:00:20)\n",
            "WARNING: saving figure to file figures/rank_genes_groups_leiden_0.6.pdf\n",
            "<Figure size 1280x1280 with 15 Axes>\n",
            "\n",
            "The arguments are:  Namespace(corr_method='benjamini-hochberg', dpi=80, export_num=50, figsize=None, figure_type='pdf', func=<function markers at 0x7f876de21440>, groupby='leiden_0.6', groups='all', input='after_ranking_gene.h5ad', key_added='rank_genes_groups_r0.6', method='wilcoxon', n_genes=25, out='after_ranking_gene.h5ad', project='', reference='rest', show=None)\n",
            "finished ranking\n",
            "+++++++++++++++\n",
            "plotting umap\n",
            "WARNING: saving figure to file figures/umap_gene_expr_pluripotent.pdf\n",
            "\n",
            "The arguments are:  Namespace(dpi=80, figsize=None, figure_type='pdf', func=<function plot_makers at 0x7f51273f9d40>, gene_list=['NANOG', 'POU5F1'], groupby='leiden', groups=None, input='after_ranking_gene.h5ad', n_genes=8, plot_type=['umap'], project='pluripotent', show=False, use_raw=None)\n",
            "usage: plot_markers_4.py [-h] [-i INPUT] [-d DPI] [-s FIGSIZE FIGSIZE]\n",
            "                         [-f FIGURE_TYPE] [-p PROJECT] [-S SHOW] [-r USE_RAW]\n",
            "                         [-g [GENE_LIST [GENE_LIST ...]]]\n",
            "                         [-t [PLOT_TYPE [PLOT_TYPE ...]]] [-b GROUPBY]\n",
            "                         [-n N_GENES] [-G [GROUPS [GROUPS ...]]]\n",
            "plot_markers_4.py: error: unrecognized arguments: precursor\n",
            "usage: plot_markers_4.py [-h] [-i INPUT] [-d DPI] [-s FIGSIZE FIGSIZE]\n",
            "                         [-f FIGURE_TYPE] [-p PROJECT] [-S SHOW] [-r USE_RAW]\n",
            "                         [-g [GENE_LIST [GENE_LIST ...]]]\n",
            "                         [-t [PLOT_TYPE [PLOT_TYPE ...]]] [-b GROUPBY]\n",
            "                         [-n N_GENES] [-G [GROUPS [GROUPS ...]]]\n",
            "plot_markers_4.py: error: unrecognized arguments: progenitor\n",
            "usage: plot_markers_4.py [-h] [-i INPUT] [-d DPI] [-s FIGSIZE FIGSIZE]\n",
            "                         [-f FIGURE_TYPE] [-p PROJECT] [-S SHOW] [-r USE_RAW]\n",
            "                         [-g [GENE_LIST [GENE_LIST ...]]]\n",
            "                         [-t [PLOT_TYPE [PLOT_TYPE ...]]] [-b GROUPBY]\n",
            "                         [-n N_GENES] [-G [GROUPS [GROUPS ...]]]\n",
            "plot_markers_4.py: error: unrecognized arguments: neurons\n",
            "usage: plot_markers_4.py [-h] [-i INPUT] [-d DPI] [-s FIGSIZE FIGSIZE]\n",
            "                         [-f FIGURE_TYPE] [-p PROJECT] [-S SHOW] [-r USE_RAW]\n",
            "                         [-g [GENE_LIST [GENE_LIST ...]]]\n",
            "                         [-t [PLOT_TYPE [PLOT_TYPE ...]]] [-b GROUPBY]\n",
            "                         [-n N_GENES] [-G [GROUPS [GROUPS ...]]]\n",
            "plot_markers_4.py: error: unrecognized arguments: neuronal\n",
            "plotting violin\n",
            "/usr/local/lib/python3.7/dist-packages/seaborn/_decorators.py:43: FutureWarning: Pass the following variable as a keyword arg: x. From version 0.12, the only valid positional argument will be `data`, and passing other arguments without an explicit keyword will result in an error or misinterpretation.\n",
            "  FutureWarning\n",
            "/usr/local/lib/python3.7/dist-packages/seaborn/_decorators.py:43: FutureWarning: Pass the following variable as a keyword arg: x. From version 0.12, the only valid positional argument will be `data`, and passing other arguments without an explicit keyword will result in an error or misinterpretation.\n",
            "  FutureWarning\n",
            "/usr/local/lib/python3.7/dist-packages/seaborn/_decorators.py:43: FutureWarning: Pass the following variable as a keyword arg: x. From version 0.12, the only valid positional argument will be `data`, and passing other arguments without an explicit keyword will result in an error or misinterpretation.\n",
            "  FutureWarning\n",
            "/usr/local/lib/python3.7/dist-packages/seaborn/_decorators.py:43: FutureWarning: Pass the following variable as a keyword arg: x. From version 0.12, the only valid positional argument will be `data`, and passing other arguments without an explicit keyword will result in an error or misinterpretation.\n",
            "  FutureWarning\n",
            "/usr/local/lib/python3.7/dist-packages/seaborn/_decorators.py:43: FutureWarning: Pass the following variable as a keyword arg: x. From version 0.12, the only valid positional argument will be `data`, and passing other arguments without an explicit keyword will result in an error or misinterpretation.\n",
            "  FutureWarning\n",
            "/usr/local/lib/python3.7/dist-packages/seaborn/_decorators.py:43: FutureWarning: Pass the following variable as a keyword arg: x. From version 0.12, the only valid positional argument will be `data`, and passing other arguments without an explicit keyword will result in an error or misinterpretation.\n",
            "  FutureWarning\n",
            "/usr/local/lib/python3.7/dist-packages/seaborn/_decorators.py:43: FutureWarning: Pass the following variable as a keyword arg: x. From version 0.12, the only valid positional argument will be `data`, and passing other arguments without an explicit keyword will result in an error or misinterpretation.\n",
            "  FutureWarning\n",
            "/usr/local/lib/python3.7/dist-packages/seaborn/_decorators.py:43: FutureWarning: Pass the following variable as a keyword arg: x. From version 0.12, the only valid positional argument will be `data`, and passing other arguments without an explicit keyword will result in an error or misinterpretation.\n",
            "  FutureWarning\n",
            "/usr/local/lib/python3.7/dist-packages/seaborn/_decorators.py:43: FutureWarning: Pass the following variable as a keyword arg: x. From version 0.12, the only valid positional argument will be `data`, and passing other arguments without an explicit keyword will result in an error or misinterpretation.\n",
            "  FutureWarning\n",
            "/usr/local/lib/python3.7/dist-packages/seaborn/_decorators.py:43: FutureWarning: Pass the following variable as a keyword arg: x. From version 0.12, the only valid positional argument will be `data`, and passing other arguments without an explicit keyword will result in an error or misinterpretation.\n",
            "  FutureWarning\n",
            "/usr/local/lib/python3.7/dist-packages/seaborn/_decorators.py:43: FutureWarning: Pass the following variable as a keyword arg: x. From version 0.12, the only valid positional argument will be `data`, and passing other arguments without an explicit keyword will result in an error or misinterpretation.\n",
            "  FutureWarning\n",
            "/usr/local/lib/python3.7/dist-packages/seaborn/_decorators.py:43: FutureWarning: Pass the following variable as a keyword arg: x. From version 0.12, the only valid positional argument will be `data`, and passing other arguments without an explicit keyword will result in an error or misinterpretation.\n",
            "  FutureWarning\n",
            "WARNING: saving figure to file figures/violin_glutamatergic.pdf\n",
            "plotting umap\n",
            "WARNING: saving figure to file figures/umap_gene_expr_glutamatergic.pdf\n",
            "\n",
            "The arguments are:  Namespace(dpi=80, figsize=None, figure_type='pdf', func=<function plot_makers at 0x7fab086fb440>, gene_list=['SLC17A7', 'SLC17A6', 'GRIN1', 'GRIN2B', 'GLS', 'GLUL'], groupby='leiden', groups=None, input='after_ranking_gene.h5ad', n_genes=8, plot_type=['violin', 'umap'], project='glutamatergic', show=False, use_raw=None)\n",
            "plotting umap\n",
            "Traceback (most recent call last):\n",
            "  File \"/usr/local/lib/python3.7/dist-packages/pandas/core/indexes/base.py\", line 2898, in get_loc\n",
            "    return self._engine.get_loc(casted_key)\n",
            "  File \"pandas/_libs/index.pyx\", line 70, in pandas._libs.index.IndexEngine.get_loc\n",
            "  File \"pandas/_libs/index.pyx\", line 101, in pandas._libs.index.IndexEngine.get_loc\n",
            "  File \"pandas/_libs/hashtable_class_helper.pxi\", line 1675, in pandas._libs.hashtable.PyObjectHashTable.get_item\n",
            "  File \"pandas/_libs/hashtable_class_helper.pxi\", line 1683, in pandas._libs.hashtable.PyObjectHashTable.get_item\n",
            "KeyError: 'CHAT'\n",
            "\n",
            "The above exception was the direct cause of the following exception:\n",
            "\n",
            "Traceback (most recent call last):\n",
            "  File \"/content/drive/MyDrive/scanpy_modules/plot_markers_4.py\", line 75, in <module>\n",
            "    main()\n",
            "  File \"/content/drive/MyDrive/scanpy_modules/plot_markers_4.py\", line 70, in main\n",
            "    args.func(args)\n",
            "  File \"/content/drive/MyDrive/scanpy_modules/plot_markers_4.py\", line 46, in plot_makers\n",
            "    sc.pl.umap(adata, color=gene_list, show=show, use_raw=use_raw, save=\"_gene_expr\"+project+\".\"+figure_type)\n",
            "  File \"/usr/local/lib/python3.7/dist-packages/scanpy/plotting/_tools/scatterplots.py\", line 615, in umap\n",
            "    return embedding(adata, 'umap', **kwargs)\n",
            "  File \"/usr/local/lib/python3.7/dist-packages/scanpy/plotting/_tools/scatterplots.py\", line 235, in embedding\n",
            "    gene_symbols=gene_symbols,\n",
            "  File \"/usr/local/lib/python3.7/dist-packages/scanpy/plotting/_tools/scatterplots.py\", line 1037, in _get_color_values\n",
            "    values = adata.raw.obs_vector(value_to_plot)\n",
            "  File \"/usr/local/lib/python3.7/dist-packages/anndata/_core/raw.py\", line 170, in obs_vector\n",
            "    idx = self._normalize_indices((slice(None), k))\n",
            "  File \"/usr/local/lib/python3.7/dist-packages/anndata/_core/raw.py\", line 161, in _normalize_indices\n",
            "    var = _normalize_index(var, self.var_names)\n",
            "  File \"/usr/local/lib/python3.7/dist-packages/anndata/_core/index.py\", line 74, in _normalize_index\n",
            "    return index.get_loc(indexer)  # int\n",
            "  File \"/usr/local/lib/python3.7/dist-packages/pandas/core/indexes/base.py\", line 2900, in get_loc\n",
            "    raise KeyError(key) from err\n",
            "KeyError: 'CHAT'\n",
            "plotting umap\n",
            "WARNING: saving figure to file figures/umap_gene_expr_excitatory.pdf\n",
            "\n",
            "The arguments are:  Namespace(dpi=80, figsize=None, figure_type='pdf', func=<function plot_makers at 0x7fb50f174d40>, gene_list=['FOXG1', 'POU3F2'], groupby='leiden', groups=None, input='after_ranking_gene.h5ad', n_genes=8, plot_type=['umap'], project='excitatory', show=False, use_raw=None)\n",
            "plotting violin\n",
            "Traceback (most recent call last):\n",
            "  File \"/content/drive/MyDrive/scanpy_modules/plot_markers_4.py\", line 75, in <module>\n",
            "    main()\n",
            "  File \"/content/drive/MyDrive/scanpy_modules/plot_markers_4.py\", line 70, in main\n",
            "    args.func(args)\n",
            "  File \"/content/drive/MyDrive/scanpy_modules/plot_markers_4.py\", line 34, in plot_makers\n",
            "    sc.pl.violin(adata, gene_list, groupby=groupby, show=show, use_raw=use_raw, save=project+\".\"+figure_type)\n",
            "  File \"/usr/local/lib/python3.7/dist-packages/scanpy/plotting/_anndata.py\", line 688, in violin\n",
            "    obs_df = get.obs_df(adata, keys=[groupby] + keys, layer=layer, use_raw=use_raw)\n",
            "  File \"/usr/local/lib/python3.7/dist-packages/scanpy/get.py\", line 165, in obs_df\n",
            "    f\"Could not find keys '{not_found}' in columns of `adata.obs` or in\"\n",
            "KeyError: \"Could not find keys '['CHAT']' in columns of `adata.obs` or in `adata.raw.var_names`.\"\n",
            "finished plotting\n"
          ],
          "name": "stdout"
        }
      ]
    },
    {
      "cell_type": "code",
      "metadata": {
        "colab": {
          "base_uri": "https://localhost:8080/"
        },
        "id": "MQpP8eAsEr4f",
        "outputId": "79cffbfc-4f5a-4fcb-acaf-fb4456613210"
      },
      "source": [
        "import os\n",
        "marker_path=\"reference_markers/marker_panglao_dic.p\"\n",
        "marker_file = os.path.join(module_path,marker_path)\n",
        "print(os.path.join(module_path,marker_path))\n",
        "\n",
        "import pickle\n",
        "\n",
        "with open(marker_file, \"rb\") as fd:\n",
        "    marker_ref = pickle.load(fd)"
      ],
      "execution_count": 44,
      "outputs": [
        {
          "output_type": "stream",
          "text": [
            "/content/drive/MyDrive/scanpy_modules/reference_markers/marker_panglao_dic.p\n"
          ],
          "name": "stdout"
        }
      ]
    },
    {
      "cell_type": "code",
      "metadata": {
        "colab": {
          "base_uri": "https://localhost:8080/"
        },
        "id": "wcqPiy2_FSSG",
        "outputId": "63588654-faf4-47c6-a70f-a277e82c66b7"
      },
      "source": [
        "adata=sc.read_h5ad(\"after_ranking_gene.h5ad\")\n",
        "adata"
      ],
      "execution_count": 45,
      "outputs": [
        {
          "output_type": "execute_result",
          "data": {
            "text/plain": [
              "AnnData object with n_obs × n_vars = 10613 × 3375\n",
              "    obs: 'n_genes', 'n_genes_by_counts', 'total_counts', 'total_counts_mt', 'pct_counts_mt', 'leiden', 'leiden_0.2', 'leiden_0.4', 'leiden_0.6'\n",
              "    var: 'gene_ids', 'feature_types', 'n_cells', 'mt', 'n_cells_by_counts', 'mean_counts', 'pct_dropout_by_counts', 'total_counts', 'highly_variable', 'means', 'dispersions', 'dispersions_norm', 'mean', 'std'\n",
              "    uns: 'leiden', 'leiden_0.2_colors', 'leiden_0.4_colors', 'leiden_0.6_colors', 'leiden_colors', 'neighbors', 'pca', 'rank_genes_groups', 'rank_genes_groups_r0.2', 'rank_genes_groups_r0.4', 'rank_genes_groups_r0.6', 'umap'\n",
              "    obsm: 'X_pca', 'X_umap'\n",
              "    varm: 'PCs'\n",
              "    obsp: 'connectivities', 'distances'"
            ]
          },
          "metadata": {
            "tags": []
          },
          "execution_count": 45
        }
      ]
    },
    {
      "cell_type": "code",
      "metadata": {
        "id": "xjk78Hs6KTiQ"
      },
      "source": [
        "# generate the annotation for each comparison method\n",
        "def cell_types(adata, marker=marker_ref, key=None, method=\"overlap_count\", normalize=None):\n",
        "  \"\"\"\n",
        "  Draw overlap matrix using different methods according to the marker dictionary\n",
        "  \"\"\"\n",
        "  annotation = sc.tl.marker_gene_overlap(adata, marker, key=key, method=method, normalize=normalize)\n",
        "\n",
        "  # repress the plotting here\n",
        "  # sns.set(rc={'figure.figsize':(12, 12)})\n",
        "  # sns.heatmap(annotation, annot=True)\n",
        "\n",
        "  cell_types = []\n",
        "  # choosing the candidate with the highest value as the cell type\n",
        "  for item in annotation.columns.to_list():\n",
        "    cell_type = annotation[item].idxmax()\n",
        "    cell_types.append(cell_type)\n",
        "\n",
        "  return cell_types\n",
        "\n",
        "\n",
        "# generate a dataframe to compare the annotation results from 3 methods for a specfic resolution\n",
        "def calculate_types(adata, marker=marker_ref, key=\"rank_genes_groups\"):\n",
        "    type_1 = cell_types(adata, marker=marker_ref, key=key, method=\"overlap_count\", normalize=\"data\")\n",
        "    type_2 = cell_types(adata, marker=marker_ref, key=key, method=\"jaccard\")\n",
        "    type_3 = cell_types(adata, marker=marker_ref, key=key, method=\"overlap_coef\")\n",
        "    types = pd.DataFrame({\"type1\": type_1, \"type2\": type_2, \"type3\": type_3})\n",
        "    \n",
        "    return types\n",
        "\n",
        "\n",
        "# add annotation info to adata using the \"best\" one\n",
        "def define_types(adata, types, leiden_r=\"leiden_0.4\"):\n",
        "    adata=adata\n",
        "    types=types\n",
        "    cell_types = types[\"type3\"].to_dict()\n",
        "    cell_types_str = {str(key): val for key, val in cell_types.items()}\n",
        "    adata.obs[leiden_r+\"_annotation\"] = adata.obs[leiden_r].replace(cell_types_str)\n",
        "    print(adata.obs[leiden_r+\"_annotation\"].value_counts())"
      ],
      "execution_count": 47,
      "outputs": []
    },
    {
      "cell_type": "code",
      "metadata": {
        "colab": {
          "base_uri": "https://localhost:8080/"
        },
        "id": "DkrbXyD8FUv7",
        "outputId": "e73216f7-f002-4e66-f942-470444c7381b"
      },
      "source": [
        "for r in [\"0.2\", \"0.4\", \"0.6\"]:\n",
        "  the_type = calculate_types(adata, key=\"rank_genes_groups_r\"+r)\n",
        "  print(\"the cell types on the resolutions of \", r)\n",
        "  define_types(adata, the_type, leiden_r=\"leiden_\"+r)\n",
        "  print()"
      ],
      "execution_count": 48,
      "outputs": [
        {
          "output_type": "stream",
          "text": [
            "the cell types on the resolutions of  0.2\n",
            "Bergmann glia                  5710\n",
            "Adrenergic neurons             1657\n",
            "Neural stem/precursor cells    1040\n",
            "Glutaminergic neurons           858\n",
            "Pyramidal cells                 798\n",
            "Tanycytes                       550\n",
            "Name: leiden_0.2_annotation, dtype: int64\n",
            "\n",
            "the cell types on the resolutions of  0.4\n",
            "Tanycytes                      2459\n",
            "Adrenergic neurons             2432\n",
            "Glutaminergic neurons          2255\n",
            "Bergmann glia                  2109\n",
            "Pyramidal cells                1219\n",
            "Neural stem/precursor cells     139\n",
            "Name: leiden_0.4_annotation, dtype: int64\n",
            "\n",
            "the cell types on the resolutions of  0.6\n",
            "Adrenergic neurons             3409\n",
            "Tanycytes                      2548\n",
            "Glutaminergic neurons          1494\n",
            "Radial glia cells              1209\n",
            "Satellite glial cells          1208\n",
            "Bergmann glia                   571\n",
            "Neural stem/precursor cells     174\n",
            "Name: leiden_0.6_annotation, dtype: int64\n",
            "\n"
          ],
          "name": "stdout"
        }
      ]
    },
    {
      "cell_type": "code",
      "metadata": {
        "colab": {
          "base_uri": "https://localhost:8080/"
        },
        "id": "iLFDqND5FZcD",
        "outputId": "18e59427-3fc8-44f4-91c8-723ba4974059"
      },
      "source": [
        "adata.write_h5ad(\"after_annotate.h5ad\")\n",
        "adata"
      ],
      "execution_count": 49,
      "outputs": [
        {
          "output_type": "stream",
          "text": [
            "... storing 'leiden_0.2_annotation' as categorical\n",
            "... storing 'leiden_0.4_annotation' as categorical\n",
            "... storing 'leiden_0.6_annotation' as categorical\n"
          ],
          "name": "stderr"
        },
        {
          "output_type": "execute_result",
          "data": {
            "text/plain": [
              "AnnData object with n_obs × n_vars = 10613 × 3375\n",
              "    obs: 'n_genes', 'n_genes_by_counts', 'total_counts', 'total_counts_mt', 'pct_counts_mt', 'leiden', 'leiden_0.2', 'leiden_0.4', 'leiden_0.6', 'leiden_0.2_annotation', 'leiden_0.4_annotation', 'leiden_0.6_annotation'\n",
              "    var: 'gene_ids', 'feature_types', 'n_cells', 'mt', 'n_cells_by_counts', 'mean_counts', 'pct_dropout_by_counts', 'total_counts', 'highly_variable', 'means', 'dispersions', 'dispersions_norm', 'mean', 'std'\n",
              "    uns: 'leiden', 'leiden_0.2_colors', 'leiden_0.4_colors', 'leiden_0.6_colors', 'leiden_colors', 'neighbors', 'pca', 'rank_genes_groups', 'rank_genes_groups_r0.2', 'rank_genes_groups_r0.4', 'rank_genes_groups_r0.6', 'umap'\n",
              "    obsm: 'X_pca', 'X_umap'\n",
              "    varm: 'PCs'\n",
              "    obsp: 'connectivities', 'distances'"
            ]
          },
          "metadata": {
            "tags": []
          },
          "execution_count": 49
        }
      ]
    },
    {
      "cell_type": "markdown",
      "metadata": {
        "id": "VHFL0rSyKiu6"
      },
      "source": [
        "# Process dopaminergic_1"
      ]
    },
    {
      "cell_type": "code",
      "metadata": {
        "colab": {
          "base_uri": "https://localhost:8080/"
        },
        "id": "LnZA5P4iKqC9",
        "outputId": "1070a1d0-5b64-4e6f-b2ec-d4ebc7a2a262"
      },
      "source": [
        "%cd ../dopaminergic/"
      ],
      "execution_count": 76,
      "outputs": [
        {
          "output_type": "stream",
          "text": [
            "/content/drive/Shareddrives/CARD/projects/iNDI/Data/Discovery planning phase/Informatics_Lirong/projects_lirong/Florian_data/annotate/dopaminergic\n"
          ],
          "name": "stdout"
        }
      ]
    },
    {
      "cell_type": "code",
      "metadata": {
        "colab": {
          "base_uri": "https://localhost:8080/"
        },
        "id": "VU-L5T5yKnyL",
        "outputId": "e736cd0d-a8b2-4f7b-e096-0f2df24c326a"
      },
      "source": [
        "% ls -lth"
      ],
      "execution_count": 78,
      "outputs": [
        {
          "output_type": "stream",
          "text": [
            "total 1.1G\n",
            "drwx------ 2 root root 4.0K Mar  5 02:47 \u001b[0m\u001b[01;34mfigures\u001b[0m/\n",
            "-rw------- 1 root root 351M Mar  5 02:46 after_ranking_gene.h5ad\n",
            "-rw------- 1 root root  22K Mar  5 02:46 rank_genes_groups_r0.6.csv\n",
            "-rw------- 1 root root  16K Mar  5 02:45 rank_genes_groups_r0.4.csv\n",
            "-rw------- 1 root root  11K Mar  5 02:44 rank_genes_groups_r0.2.csv\n",
            "-rw------- 1 root root  34K Mar  5 02:44 rank_genes_groups.csv\n",
            "-rw------- 1 root root 351M Mar  5 02:43 after_leiden.h5ad\n",
            "-rw------- 1 root root 348M Mar  5 02:38 count_after_QC.h5ad\n",
            "drwx------ 2 root root 4.0K Mar  5 02:37 \u001b[01;34mcache\u001b[0m/\n"
          ],
          "name": "stdout"
        }
      ]
    },
    {
      "cell_type": "code",
      "metadata": {
        "colab": {
          "base_uri": "https://localhost:8080/"
        },
        "id": "atseqnXfK27F",
        "outputId": "818ff282-ef8c-48ab-93b8-e5adce4c0648"
      },
      "source": [
        "%ls -lth {module_path}/notes/"
      ],
      "execution_count": 77,
      "outputs": [
        {
          "output_type": "stream",
          "text": [
            "total 26K\n",
            "-rw------- 1 root root 2.2K Mar  4 15:28 3March2021_run_scanpy_iPSC.sh\n",
            "-rw------- 1 root root 2.2K Mar  3 16:00 3March2021_run_scanpy_concat_NGN2_NIL_iPSC.sh\n",
            "-rw------- 1 root root 2.2K Mar  3 16:00 4March2021_run_scanpy_Florian_cortical.sh\n",
            "-rw------- 1 root root 2.2K Mar  3 16:00 4March2021_run_scanpy_Florian_dopaminergicsh.sh\n",
            "-rw------- 1 root root 2.2K Mar  3 16:00 4March2021_run_scanpy_Florian_hypothalamic.sh\n",
            "-rw------- 1 root root 2.2K Mar  3 15:39 2March2021_run_scanpy_concat_NGN2.sh\n",
            "-rw------- 1 root root 2.2K Mar  3 15:38 3March2021_run_scanpy_concat_NIL.sh\n",
            "drwx------ 2 root root 4.0K Mar  2 15:45 \u001b[0m\u001b[01;34mnotes_brain_vs_ipsc\u001b[0m/\n",
            "drwx------ 2 root root 4.0K Mar  2 15:44 \u001b[01;34mnotes_SMAD\u001b[0m/\n"
          ],
          "name": "stdout"
        }
      ]
    },
    {
      "cell_type": "code",
      "metadata": {
        "colab": {
          "base_uri": "https://localhost:8080/"
        },
        "id": "35koJJHIKw3E",
        "outputId": "9f22d96a-2929-4e47-f1db-7cc09ca10e1f"
      },
      "source": [
        "RUN_SH=\"4March2021_run_scanpy_Florian_dopaminergicsh.sh\"\n",
        "!bash {module_path}/notes/{RUN_SH} ../../{PATH_dop}/filtered_cellranger_matrix"
      ],
      "execution_count": 62,
      "outputs": [
        {
          "output_type": "stream",
          "text": [
            "Processing ../../cortical_dopaminergic_sample_3/filtered_cellranger_matrix\n",
            "The arguments are:  Namespace(color_gene='MAP2', dpi=80, exclude_highly_expressed=True, figsize=None, figure_type='pdf', input='../../cortical_dopaminergic_sample_3/filtered_cellranger_matrix', min_cells=3, min_genes=200, n_genes_by_counts=7000, n_top=20, out='count_after_QC', pct_counts_mt=20.0, project='', show=False)\n",
            "\n",
            "exclude_highly_expressed is  True\n",
            "\n",
            "scanpy==1.5.1 anndata==0.7.5 umap==0.4.6 numpy==1.19.5 scipy==1.4.1 pandas==1.1.5 scikit-learn==0.22.2.post1 statsmodels==0.10.2 python-igraph==0.9.0 leidenalg==0.8.3\n",
            "Running Scanpy 1.5.1, on 2021-03-05 02:35.\n",
            "... writing an h5ad cache file to speedup reading next time\n",
            "normalizing counts per cell\n",
            "    finished (0:00:00)\n",
            "WARNING: saving figure to file figures/highest_expr_genes.pdf\n",
            "filtered out 11728 genes that are detected in less than 3 cells\n",
            "... storing 'feature_types' as categorical\n",
            "/usr/local/lib/python3.7/dist-packages/seaborn/_core.py:1319: UserWarning: Vertical orientation ignored with only `x` specified.\n",
            "  warnings.warn(single_var_warning.format(\"Vertical\", \"x\"))\n",
            "/usr/local/lib/python3.7/dist-packages/seaborn/_core.py:1319: UserWarning: Vertical orientation ignored with only `x` specified.\n",
            "  warnings.warn(single_var_warning.format(\"Vertical\", \"x\"))\n",
            "/usr/local/lib/python3.7/dist-packages/seaborn/_core.py:1319: UserWarning: Vertical orientation ignored with only `x` specified.\n",
            "  warnings.warn(single_var_warning.format(\"Vertical\", \"x\"))\n",
            "/usr/local/lib/python3.7/dist-packages/seaborn/_core.py:1319: UserWarning: Vertical orientation ignored with only `x` specified.\n",
            "  warnings.warn(single_var_warning.format(\"Vertical\", \"x\"))\n",
            "/usr/local/lib/python3.7/dist-packages/seaborn/_core.py:1319: UserWarning: Vertical orientation ignored with only `x` specified.\n",
            "  warnings.warn(single_var_warning.format(\"Vertical\", \"x\"))\n",
            "/usr/local/lib/python3.7/dist-packages/seaborn/_core.py:1319: UserWarning: Vertical orientation ignored with only `x` specified.\n",
            "  warnings.warn(single_var_warning.format(\"Vertical\", \"x\"))\n",
            "WARNING: saving figure to file figures/violin_qc.pdf\n",
            "WARNING: saving figure to file figures/scatter1.pdf\n",
            "WARNING: saving figure to file figures/scatter2.pdf\n",
            "/usr/local/lib/python3.7/dist-packages/scanpy/preprocessing/_normalization.py:138: UserWarning: Revieved a view of an AnnData. Making a copy.\n",
            "  view_to_actual(adata)\n",
            "normalizing counts per cell The following highly-expressed genes are not considered during normalization factor computation:\n",
            "['MALAT1', 'FTL', 'TFF3', 'MT-CO2']\n",
            "    finished (0:00:00)\n",
            "extracting highly variable genes\n",
            "    finished (0:00:01)\n",
            "--> added\n",
            "    'highly_variable', boolean vector (adata.var)\n",
            "    'means', float vector (adata.var)\n",
            "    'dispersions', float vector (adata.var)\n",
            "    'dispersions_norm', float vector (adata.var)\n",
            "WARNING: saving figure to file figures/filter_genes_dispersion.pdf\n",
            "regressing out ['total_counts', 'pct_counts_mt']\n",
            "    sparse input is densified and may lead to high memory use\n",
            "/usr/local/lib/python3.7/dist-packages/statsmodels/tools/_testing.py:19: FutureWarning: pandas.util.testing is deprecated. Use the functions in the public API at pandas.testing instead.\n",
            "  import pandas.util.testing as tm\n",
            "    finished (0:00:41)\n",
            "computing PCA\n",
            "    on highly variable genes\n",
            "    with n_comps=50\n",
            "    finished (0:00:09)\n",
            "WARNING: saving figure to file figures/pca.pdf\n",
            "WARNING: saving figure to file figures/pca_variance_ratio.pdf\n",
            "finished QC\n",
            "+++++++++++++++\n",
            "Running Scanpy 1.5.1, on 2021-03-05 02:38.\n",
            "scanpy==1.5.1 anndata==0.7.5 umap==0.4.6 numpy==1.19.5 scipy==1.4.1 pandas==1.1.5 scikit-learn==0.22.2.post1 statsmodels==0.10.2 python-igraph==0.9.0 leidenalg==0.8.3\n",
            "computing neighbors\n",
            "    using 'X_pca' with n_pcs = 50\n",
            "    finished: added to `.uns['neighbors']`\n",
            "    `.obsp['distances']`, distances for each pair of neighbors\n",
            "    `.obsp['connectivities']`, weighted adjacency matrix (0:00:20)\n",
            "computing UMAP\n",
            "    finished: added\n",
            "    'X_umap', UMAP coordinates (adata.obsm) (0:00:16)\n",
            "running Leiden clustering\n",
            "    finished: found 24 clusters and added\n",
            "    'leiden', the cluster labels (adata.obs, categorical) (0:00:01)\n",
            "WARNING: saving figure to file figures/umap_after_leiden.pdf\n",
            "\n",
            "The arguments are Namespace(color_gene='leiden', dpi=80, figsize=None, figure_type='pdf', func=<function cluster at 0x7fd75bc56170>, input='count_after_QC.h5ad', key_added='leiden', method='umap', metric='euclidean', n_neighbors=15, n_pcs=None, out='after_leiden.h5ad', project='', resolution=1.0, show=False)\n",
            "Running Scanpy 1.5.1, on 2021-03-05 02:39.\n",
            "scanpy==1.5.1 anndata==0.7.5 umap==0.4.6 numpy==1.19.5 scipy==1.4.1 pandas==1.1.5 scikit-learn==0.22.2.post1 statsmodels==0.10.2 python-igraph==0.9.0 leidenalg==0.8.3\n",
            "computing neighbors\n",
            "    using 'X_pca' with n_pcs = 50\n",
            "    finished: added to `.uns['neighbors']`\n",
            "    `.obsp['distances']`, distances for each pair of neighbors\n",
            "    `.obsp['connectivities']`, weighted adjacency matrix (0:00:20)\n",
            "computing UMAP\n",
            "    finished: added\n",
            "    'X_umap', UMAP coordinates (adata.obsm) (0:00:16)\n",
            "running Leiden clustering\n",
            "    finished: found 9 clusters and added\n",
            "    'leiden_0.2', the cluster labels (adata.obs, categorical) (0:00:00)\n",
            "WARNING: saving figure to file figures/umap_after_leiden_2r.pdf\n",
            "<Figure size 772.8x320 with 2 Axes>\n",
            "\n",
            "The arguments are Namespace(color_gene=['leiden_0.2', 'leiden'], dpi=80, figsize=None, figure_type='pdf', func=<function cluster at 0x7f796ab22170>, input='after_leiden.h5ad', key_added='leiden_0.2', method='umap', metric='euclidean', n_neighbors=15, n_pcs=None, out='after_leiden.h5ad', project='2r', resolution=0.2, show=None)\n",
            "Running Scanpy 1.5.1, on 2021-03-05 02:40.\n",
            "scanpy==1.5.1 anndata==0.7.5 umap==0.4.6 numpy==1.19.5 scipy==1.4.1 pandas==1.1.5 scikit-learn==0.22.2.post1 statsmodels==0.10.2 python-igraph==0.9.0 leidenalg==0.8.3\n",
            "computing neighbors\n",
            "    using 'X_pca' with n_pcs = 50\n",
            "    finished: added to `.uns['neighbors']`\n",
            "    `.obsp['distances']`, distances for each pair of neighbors\n",
            "    `.obsp['connectivities']`, weighted adjacency matrix (0:00:20)\n",
            "computing UMAP\n",
            "    finished: added\n",
            "    'X_umap', UMAP coordinates (adata.obsm) (0:00:16)\n",
            "running Leiden clustering\n",
            "    finished: found 12 clusters and added\n",
            "    'leiden_0.4', the cluster labels (adata.obs, categorical) (0:00:02)\n",
            "WARNING: saving figure to file figures/umap_after_leiden_3r.pdf\n",
            "<Figure size 1159.2x320 with 3 Axes>\n",
            "\n",
            "The arguments are Namespace(color_gene=['leiden_0.2', 'leiden_0.4', 'leiden'], dpi=80, figsize=None, figure_type='pdf', func=<function cluster at 0x7f14ae998170>, input='after_leiden.h5ad', key_added='leiden_0.4', method='umap', metric='euclidean', n_neighbors=15, n_pcs=None, out='after_leiden.h5ad', project='3r', resolution=0.4, show=None)\n",
            "Running Scanpy 1.5.1, on 2021-03-05 02:42.\n",
            "scanpy==1.5.1 anndata==0.7.5 umap==0.4.6 numpy==1.19.5 scipy==1.4.1 pandas==1.1.5 scikit-learn==0.22.2.post1 statsmodels==0.10.2 python-igraph==0.9.0 leidenalg==0.8.3\n",
            "computing neighbors\n",
            "    using 'X_pca' with n_pcs = 50\n",
            "    finished: added to `.uns['neighbors']`\n",
            "    `.obsp['distances']`, distances for each pair of neighbors\n",
            "    `.obsp['connectivities']`, weighted adjacency matrix (0:00:20)\n",
            "computing UMAP\n",
            "    finished: added\n",
            "    'X_umap', UMAP coordinates (adata.obsm) (0:00:16)\n",
            "running Leiden clustering\n",
            "    finished: found 16 clusters and added\n",
            "    'leiden_0.6', the cluster labels (adata.obs, categorical) (0:00:01)\n",
            "WARNING: saving figure to file figures/umap_after_leiden_4r.pdf\n",
            "<Figure size 1545.6x320 with 4 Axes>\n",
            "\n",
            "The arguments are Namespace(color_gene=['leiden_0.2', 'leiden_0.4', 'leiden_0.6', 'leiden'], dpi=80, figsize=None, figure_type='pdf', func=<function cluster at 0x7f03c0700170>, input='after_leiden.h5ad', key_added='leiden_0.6', method='umap', metric='euclidean', n_neighbors=15, n_pcs=None, out='after_leiden.h5ad', project='4r', resolution=0.6, show=None)\n",
            "finished clustering\n",
            "+++++++++++++++\n",
            "scanpy==1.5.1 anndata==0.7.5 umap==0.4.6 numpy==1.19.5 scipy==1.4.1 pandas==1.1.5 scikit-learn==0.22.2.post1 statsmodels==0.10.2 python-igraph==0.9.0 leidenalg==0.8.3\n",
            "Running Scanpy 1.5.1, on 2021-03-05 02:43.\n",
            "ranking genes\n",
            "/usr/local/lib/python3.7/dist-packages/statsmodels/tools/_testing.py:19: FutureWarning: pandas.util.testing is deprecated. Use the functions in the public API at pandas.testing instead.\n",
            "  import pandas.util.testing as tm\n",
            "    finished (0:00:22)\n",
            "WARNING: saving figure to file figures/rank_genes_groups_leiden.pdf\n",
            "\n",
            "The arguments are:  Namespace(corr_method='benjamini-hochberg', dpi=80, export_num=50, figsize=None, figure_type='pdf', func=<function markers at 0x7f854b38f440>, groupby='leiden', groups='all', input='after_leiden.h5ad', key_added=None, method='wilcoxon', n_genes=25, out='after_ranking_gene.h5ad', project='', reference='rest', show=False)\n",
            "scanpy==1.5.1 anndata==0.7.5 umap==0.4.6 numpy==1.19.5 scipy==1.4.1 pandas==1.1.5 scikit-learn==0.22.2.post1 statsmodels==0.10.2 python-igraph==0.9.0 leidenalg==0.8.3\n",
            "Running Scanpy 1.5.1, on 2021-03-05 02:44.\n",
            "ranking genes\n",
            "/usr/local/lib/python3.7/dist-packages/statsmodels/tools/_testing.py:19: FutureWarning: pandas.util.testing is deprecated. Use the functions in the public API at pandas.testing instead.\n",
            "  import pandas.util.testing as tm\n",
            "    finished (0:00:17)\n",
            "WARNING: saving figure to file figures/rank_genes_groups_leiden_0.2.pdf\n",
            "<Figure size 1280x960 with 9 Axes>\n",
            "\n",
            "The arguments are:  Namespace(corr_method='benjamini-hochberg', dpi=80, export_num=50, figsize=None, figure_type='pdf', func=<function markers at 0x7fca643b6440>, groupby='leiden_0.2', groups='all', input='after_ranking_gene.h5ad', key_added='rank_genes_groups_r0.2', method='wilcoxon', n_genes=25, out='after_ranking_gene.h5ad', project='', reference='rest', show=None)\n",
            "scanpy==1.5.1 anndata==0.7.5 umap==0.4.6 numpy==1.19.5 scipy==1.4.1 pandas==1.1.5 scikit-learn==0.22.2.post1 statsmodels==0.10.2 python-igraph==0.9.0 leidenalg==0.8.3\n",
            "Running Scanpy 1.5.1, on 2021-03-05 02:45.\n",
            "ranking genes\n",
            "/usr/local/lib/python3.7/dist-packages/statsmodels/tools/_testing.py:19: FutureWarning: pandas.util.testing is deprecated. Use the functions in the public API at pandas.testing instead.\n",
            "  import pandas.util.testing as tm\n",
            "    finished (0:00:18)\n",
            "WARNING: saving figure to file figures/rank_genes_groups_leiden_0.4.pdf\n",
            "<Figure size 1280x960 with 12 Axes>\n",
            "\n",
            "The arguments are:  Namespace(corr_method='benjamini-hochberg', dpi=80, export_num=50, figsize=None, figure_type='pdf', func=<function markers at 0x7fcbc401d440>, groupby='leiden_0.4', groups='all', input='after_ranking_gene.h5ad', key_added='rank_genes_groups_r0.4', method='wilcoxon', n_genes=25, out='after_ranking_gene.h5ad', project='', reference='rest', show=None)\n",
            "scanpy==1.5.1 anndata==0.7.5 umap==0.4.6 numpy==1.19.5 scipy==1.4.1 pandas==1.1.5 scikit-learn==0.22.2.post1 statsmodels==0.10.2 python-igraph==0.9.0 leidenalg==0.8.3\n",
            "Running Scanpy 1.5.1, on 2021-03-05 02:46.\n",
            "ranking genes\n",
            "/usr/local/lib/python3.7/dist-packages/statsmodels/tools/_testing.py:19: FutureWarning: pandas.util.testing is deprecated. Use the functions in the public API at pandas.testing instead.\n",
            "  import pandas.util.testing as tm\n",
            "    finished (0:00:19)\n",
            "WARNING: saving figure to file figures/rank_genes_groups_leiden_0.6.pdf\n",
            "<Figure size 1280x1280 with 16 Axes>\n",
            "\n",
            "The arguments are:  Namespace(corr_method='benjamini-hochberg', dpi=80, export_num=50, figsize=None, figure_type='pdf', func=<function markers at 0x7f115a8fa440>, groupby='leiden_0.6', groups='all', input='after_ranking_gene.h5ad', key_added='rank_genes_groups_r0.6', method='wilcoxon', n_genes=25, out='after_ranking_gene.h5ad', project='', reference='rest', show=None)\n",
            "finished ranking\n",
            "+++++++++++++++\n",
            "plotting umap\n",
            "WARNING: saving figure to file figures/umap_gene_expr_pluripotent.pdf\n",
            "\n",
            "The arguments are:  Namespace(dpi=80, figsize=None, figure_type='pdf', func=<function plot_makers at 0x7f4788ad3d40>, gene_list=['NANOG', 'POU5F1'], groupby='leiden', groups=None, input='after_ranking_gene.h5ad', n_genes=8, plot_type=['umap'], project='pluripotent', show=False, use_raw=None)\n",
            "usage: plot_markers_4.py [-h] [-i INPUT] [-d DPI] [-s FIGSIZE FIGSIZE]\n",
            "                         [-f FIGURE_TYPE] [-p PROJECT] [-S SHOW] [-r USE_RAW]\n",
            "                         [-g [GENE_LIST [GENE_LIST ...]]]\n",
            "                         [-t [PLOT_TYPE [PLOT_TYPE ...]]] [-b GROUPBY]\n",
            "                         [-n N_GENES] [-G [GROUPS [GROUPS ...]]]\n",
            "plot_markers_4.py: error: unrecognized arguments: precursor\n",
            "usage: plot_markers_4.py [-h] [-i INPUT] [-d DPI] [-s FIGSIZE FIGSIZE]\n",
            "                         [-f FIGURE_TYPE] [-p PROJECT] [-S SHOW] [-r USE_RAW]\n",
            "                         [-g [GENE_LIST [GENE_LIST ...]]]\n",
            "                         [-t [PLOT_TYPE [PLOT_TYPE ...]]] [-b GROUPBY]\n",
            "                         [-n N_GENES] [-G [GROUPS [GROUPS ...]]]\n",
            "plot_markers_4.py: error: unrecognized arguments: progenitor\n",
            "usage: plot_markers_4.py [-h] [-i INPUT] [-d DPI] [-s FIGSIZE FIGSIZE]\n",
            "                         [-f FIGURE_TYPE] [-p PROJECT] [-S SHOW] [-r USE_RAW]\n",
            "                         [-g [GENE_LIST [GENE_LIST ...]]]\n",
            "                         [-t [PLOT_TYPE [PLOT_TYPE ...]]] [-b GROUPBY]\n",
            "                         [-n N_GENES] [-G [GROUPS [GROUPS ...]]]\n",
            "plot_markers_4.py: error: unrecognized arguments: neurons\n",
            "usage: plot_markers_4.py [-h] [-i INPUT] [-d DPI] [-s FIGSIZE FIGSIZE]\n",
            "                         [-f FIGURE_TYPE] [-p PROJECT] [-S SHOW] [-r USE_RAW]\n",
            "                         [-g [GENE_LIST [GENE_LIST ...]]]\n",
            "                         [-t [PLOT_TYPE [PLOT_TYPE ...]]] [-b GROUPBY]\n",
            "                         [-n N_GENES] [-G [GROUPS [GROUPS ...]]]\n",
            "plot_markers_4.py: error: unrecognized arguments: neuronal\n",
            "plotting violin\n",
            "/usr/local/lib/python3.7/dist-packages/seaborn/_decorators.py:43: FutureWarning: Pass the following variable as a keyword arg: x. From version 0.12, the only valid positional argument will be `data`, and passing other arguments without an explicit keyword will result in an error or misinterpretation.\n",
            "  FutureWarning\n",
            "/usr/local/lib/python3.7/dist-packages/seaborn/_decorators.py:43: FutureWarning: Pass the following variable as a keyword arg: x. From version 0.12, the only valid positional argument will be `data`, and passing other arguments without an explicit keyword will result in an error or misinterpretation.\n",
            "  FutureWarning\n",
            "/usr/local/lib/python3.7/dist-packages/seaborn/_decorators.py:43: FutureWarning: Pass the following variable as a keyword arg: x. From version 0.12, the only valid positional argument will be `data`, and passing other arguments without an explicit keyword will result in an error or misinterpretation.\n",
            "  FutureWarning\n",
            "/usr/local/lib/python3.7/dist-packages/seaborn/_decorators.py:43: FutureWarning: Pass the following variable as a keyword arg: x. From version 0.12, the only valid positional argument will be `data`, and passing other arguments without an explicit keyword will result in an error or misinterpretation.\n",
            "  FutureWarning\n",
            "/usr/local/lib/python3.7/dist-packages/seaborn/_decorators.py:43: FutureWarning: Pass the following variable as a keyword arg: x. From version 0.12, the only valid positional argument will be `data`, and passing other arguments without an explicit keyword will result in an error or misinterpretation.\n",
            "  FutureWarning\n",
            "/usr/local/lib/python3.7/dist-packages/seaborn/_decorators.py:43: FutureWarning: Pass the following variable as a keyword arg: x. From version 0.12, the only valid positional argument will be `data`, and passing other arguments without an explicit keyword will result in an error or misinterpretation.\n",
            "  FutureWarning\n",
            "/usr/local/lib/python3.7/dist-packages/seaborn/_decorators.py:43: FutureWarning: Pass the following variable as a keyword arg: x. From version 0.12, the only valid positional argument will be `data`, and passing other arguments without an explicit keyword will result in an error or misinterpretation.\n",
            "  FutureWarning\n",
            "/usr/local/lib/python3.7/dist-packages/seaborn/_decorators.py:43: FutureWarning: Pass the following variable as a keyword arg: x. From version 0.12, the only valid positional argument will be `data`, and passing other arguments without an explicit keyword will result in an error or misinterpretation.\n",
            "  FutureWarning\n",
            "/usr/local/lib/python3.7/dist-packages/seaborn/_decorators.py:43: FutureWarning: Pass the following variable as a keyword arg: x. From version 0.12, the only valid positional argument will be `data`, and passing other arguments without an explicit keyword will result in an error or misinterpretation.\n",
            "  FutureWarning\n",
            "/usr/local/lib/python3.7/dist-packages/seaborn/_decorators.py:43: FutureWarning: Pass the following variable as a keyword arg: x. From version 0.12, the only valid positional argument will be `data`, and passing other arguments without an explicit keyword will result in an error or misinterpretation.\n",
            "  FutureWarning\n",
            "/usr/local/lib/python3.7/dist-packages/seaborn/_decorators.py:43: FutureWarning: Pass the following variable as a keyword arg: x. From version 0.12, the only valid positional argument will be `data`, and passing other arguments without an explicit keyword will result in an error or misinterpretation.\n",
            "  FutureWarning\n",
            "/usr/local/lib/python3.7/dist-packages/seaborn/_decorators.py:43: FutureWarning: Pass the following variable as a keyword arg: x. From version 0.12, the only valid positional argument will be `data`, and passing other arguments without an explicit keyword will result in an error or misinterpretation.\n",
            "  FutureWarning\n",
            "WARNING: saving figure to file figures/violin_glutamatergic.pdf\n",
            "plotting umap\n",
            "WARNING: saving figure to file figures/umap_gene_expr_glutamatergic.pdf\n",
            "\n",
            "The arguments are:  Namespace(dpi=80, figsize=None, figure_type='pdf', func=<function plot_makers at 0x7f0eb45ee440>, gene_list=['SLC17A7', 'SLC17A6', 'GRIN1', 'GRIN2B', 'GLS', 'GLUL'], groupby='leiden', groups=None, input='after_ranking_gene.h5ad', n_genes=8, plot_type=['violin', 'umap'], project='glutamatergic', show=False, use_raw=None)\n",
            "plotting umap\n",
            "WARNING: saving figure to file figures/umap_gene_expr_colinergic.pdf\n",
            "\n",
            "The arguments are:  Namespace(dpi=80, figsize=None, figure_type='pdf', func=<function plot_makers at 0x7f1287663d40>, gene_list=['ACHE', 'CHAT', 'SLC18A3'], groupby='leiden', groups=None, input='after_ranking_gene.h5ad', n_genes=8, plot_type=['umap'], project='colinergic', show=False, use_raw=None)\n",
            "plotting umap\n",
            "WARNING: saving figure to file figures/umap_gene_expr_excitatory.pdf\n",
            "\n",
            "The arguments are:  Namespace(dpi=80, figsize=None, figure_type='pdf', func=<function plot_makers at 0x7f6bcefbbd40>, gene_list=['FOXG1', 'POU3F2'], groupby='leiden', groups=None, input='after_ranking_gene.h5ad', n_genes=8, plot_type=['umap'], project='excitatory', show=False, use_raw=None)\n",
            "plotting violin\n",
            "/usr/local/lib/python3.7/dist-packages/seaborn/_decorators.py:43: FutureWarning: Pass the following variable as a keyword arg: x. From version 0.12, the only valid positional argument will be `data`, and passing other arguments without an explicit keyword will result in an error or misinterpretation.\n",
            "  FutureWarning\n",
            "/usr/local/lib/python3.7/dist-packages/seaborn/_decorators.py:43: FutureWarning: Pass the following variable as a keyword arg: x. From version 0.12, the only valid positional argument will be `data`, and passing other arguments without an explicit keyword will result in an error or misinterpretation.\n",
            "  FutureWarning\n",
            "/usr/local/lib/python3.7/dist-packages/seaborn/_decorators.py:43: FutureWarning: Pass the following variable as a keyword arg: x. From version 0.12, the only valid positional argument will be `data`, and passing other arguments without an explicit keyword will result in an error or misinterpretation.\n",
            "  FutureWarning\n",
            "/usr/local/lib/python3.7/dist-packages/seaborn/_decorators.py:43: FutureWarning: Pass the following variable as a keyword arg: x. From version 0.12, the only valid positional argument will be `data`, and passing other arguments without an explicit keyword will result in an error or misinterpretation.\n",
            "  FutureWarning\n",
            "/usr/local/lib/python3.7/dist-packages/seaborn/_decorators.py:43: FutureWarning: Pass the following variable as a keyword arg: x. From version 0.12, the only valid positional argument will be `data`, and passing other arguments without an explicit keyword will result in an error or misinterpretation.\n",
            "  FutureWarning\n",
            "/usr/local/lib/python3.7/dist-packages/seaborn/_decorators.py:43: FutureWarning: Pass the following variable as a keyword arg: x. From version 0.12, the only valid positional argument will be `data`, and passing other arguments without an explicit keyword will result in an error or misinterpretation.\n",
            "  FutureWarning\n",
            "/usr/local/lib/python3.7/dist-packages/seaborn/_decorators.py:43: FutureWarning: Pass the following variable as a keyword arg: x. From version 0.12, the only valid positional argument will be `data`, and passing other arguments without an explicit keyword will result in an error or misinterpretation.\n",
            "  FutureWarning\n",
            "/usr/local/lib/python3.7/dist-packages/seaborn/_decorators.py:43: FutureWarning: Pass the following variable as a keyword arg: x. From version 0.12, the only valid positional argument will be `data`, and passing other arguments without an explicit keyword will result in an error or misinterpretation.\n",
            "  FutureWarning\n",
            "/usr/local/lib/python3.7/dist-packages/seaborn/_decorators.py:43: FutureWarning: Pass the following variable as a keyword arg: x. From version 0.12, the only valid positional argument will be `data`, and passing other arguments without an explicit keyword will result in an error or misinterpretation.\n",
            "  FutureWarning\n",
            "/usr/local/lib/python3.7/dist-packages/seaborn/_decorators.py:43: FutureWarning: Pass the following variable as a keyword arg: x. From version 0.12, the only valid positional argument will be `data`, and passing other arguments without an explicit keyword will result in an error or misinterpretation.\n",
            "  FutureWarning\n",
            "/usr/local/lib/python3.7/dist-packages/seaborn/_decorators.py:43: FutureWarning: Pass the following variable as a keyword arg: x. From version 0.12, the only valid positional argument will be `data`, and passing other arguments without an explicit keyword will result in an error or misinterpretation.\n",
            "  FutureWarning\n",
            "/usr/local/lib/python3.7/dist-packages/seaborn/_decorators.py:43: FutureWarning: Pass the following variable as a keyword arg: x. From version 0.12, the only valid positional argument will be `data`, and passing other arguments without an explicit keyword will result in an error or misinterpretation.\n",
            "  FutureWarning\n",
            "/usr/local/lib/python3.7/dist-packages/seaborn/_decorators.py:43: FutureWarning: Pass the following variable as a keyword arg: x. From version 0.12, the only valid positional argument will be `data`, and passing other arguments without an explicit keyword will result in an error or misinterpretation.\n",
            "  FutureWarning\n",
            "/usr/local/lib/python3.7/dist-packages/seaborn/_decorators.py:43: FutureWarning: Pass the following variable as a keyword arg: x. From version 0.12, the only valid positional argument will be `data`, and passing other arguments without an explicit keyword will result in an error or misinterpretation.\n",
            "  FutureWarning\n",
            "/usr/local/lib/python3.7/dist-packages/seaborn/_decorators.py:43: FutureWarning: Pass the following variable as a keyword arg: x. From version 0.12, the only valid positional argument will be `data`, and passing other arguments without an explicit keyword will result in an error or misinterpretation.\n",
            "  FutureWarning\n",
            "/usr/local/lib/python3.7/dist-packages/seaborn/_decorators.py:43: FutureWarning: Pass the following variable as a keyword arg: x. From version 0.12, the only valid positional argument will be `data`, and passing other arguments without an explicit keyword will result in an error or misinterpretation.\n",
            "  FutureWarning\n",
            "/usr/local/lib/python3.7/dist-packages/seaborn/_decorators.py:43: FutureWarning: Pass the following variable as a keyword arg: x. From version 0.12, the only valid positional argument will be `data`, and passing other arguments without an explicit keyword will result in an error or misinterpretation.\n",
            "  FutureWarning\n",
            "/usr/local/lib/python3.7/dist-packages/seaborn/_decorators.py:43: FutureWarning: Pass the following variable as a keyword arg: x. From version 0.12, the only valid positional argument will be `data`, and passing other arguments without an explicit keyword will result in an error or misinterpretation.\n",
            "  FutureWarning\n",
            "/usr/local/lib/python3.7/dist-packages/seaborn/_decorators.py:43: FutureWarning: Pass the following variable as a keyword arg: x. From version 0.12, the only valid positional argument will be `data`, and passing other arguments without an explicit keyword will result in an error or misinterpretation.\n",
            "  FutureWarning\n",
            "/usr/local/lib/python3.7/dist-packages/seaborn/_decorators.py:43: FutureWarning: Pass the following variable as a keyword arg: x. From version 0.12, the only valid positional argument will be `data`, and passing other arguments without an explicit keyword will result in an error or misinterpretation.\n",
            "  FutureWarning\n",
            "/usr/local/lib/python3.7/dist-packages/seaborn/_decorators.py:43: FutureWarning: Pass the following variable as a keyword arg: x. From version 0.12, the only valid positional argument will be `data`, and passing other arguments without an explicit keyword will result in an error or misinterpretation.\n",
            "  FutureWarning\n",
            "/usr/local/lib/python3.7/dist-packages/seaborn/_decorators.py:43: FutureWarning: Pass the following variable as a keyword arg: x. From version 0.12, the only valid positional argument will be `data`, and passing other arguments without an explicit keyword will result in an error or misinterpretation.\n",
            "  FutureWarning\n",
            "WARNING: saving figure to file figures/violin_all_markers.pdf\n",
            "plotting dotplot\n",
            "WARNING: saving figure to file figures/dotplot_all_markers.pdf\n",
            "plotting stacked_violin\n",
            "/usr/local/lib/python3.7/dist-packages/seaborn/_decorators.py:43: FutureWarning: Pass the following variable as a keyword arg: x. From version 0.12, the only valid positional argument will be `data`, and passing other arguments without an explicit keyword will result in an error or misinterpretation.\n",
            "  FutureWarning\n",
            "/usr/local/lib/python3.7/dist-packages/seaborn/_decorators.py:43: FutureWarning: Pass the following variable as a keyword arg: x. From version 0.12, the only valid positional argument will be `data`, and passing other arguments without an explicit keyword will result in an error or misinterpretation.\n",
            "  FutureWarning\n",
            "/usr/local/lib/python3.7/dist-packages/seaborn/_decorators.py:43: FutureWarning: Pass the following variable as a keyword arg: x. From version 0.12, the only valid positional argument will be `data`, and passing other arguments without an explicit keyword will result in an error or misinterpretation.\n",
            "  FutureWarning\n",
            "/usr/local/lib/python3.7/dist-packages/seaborn/_decorators.py:43: FutureWarning: Pass the following variable as a keyword arg: x. From version 0.12, the only valid positional argument will be `data`, and passing other arguments without an explicit keyword will result in an error or misinterpretation.\n",
            "  FutureWarning\n",
            "/usr/local/lib/python3.7/dist-packages/seaborn/_decorators.py:43: FutureWarning: Pass the following variable as a keyword arg: x. From version 0.12, the only valid positional argument will be `data`, and passing other arguments without an explicit keyword will result in an error or misinterpretation.\n",
            "  FutureWarning\n",
            "/usr/local/lib/python3.7/dist-packages/seaborn/_decorators.py:43: FutureWarning: Pass the following variable as a keyword arg: x. From version 0.12, the only valid positional argument will be `data`, and passing other arguments without an explicit keyword will result in an error or misinterpretation.\n",
            "  FutureWarning\n",
            "/usr/local/lib/python3.7/dist-packages/seaborn/_decorators.py:43: FutureWarning: Pass the following variable as a keyword arg: x. From version 0.12, the only valid positional argument will be `data`, and passing other arguments without an explicit keyword will result in an error or misinterpretation.\n",
            "  FutureWarning\n",
            "/usr/local/lib/python3.7/dist-packages/seaborn/_decorators.py:43: FutureWarning: Pass the following variable as a keyword arg: x. From version 0.12, the only valid positional argument will be `data`, and passing other arguments without an explicit keyword will result in an error or misinterpretation.\n",
            "  FutureWarning\n",
            "/usr/local/lib/python3.7/dist-packages/seaborn/_decorators.py:43: FutureWarning: Pass the following variable as a keyword arg: x. From version 0.12, the only valid positional argument will be `data`, and passing other arguments without an explicit keyword will result in an error or misinterpretation.\n",
            "  FutureWarning\n",
            "/usr/local/lib/python3.7/dist-packages/seaborn/_decorators.py:43: FutureWarning: Pass the following variable as a keyword arg: x. From version 0.12, the only valid positional argument will be `data`, and passing other arguments without an explicit keyword will result in an error or misinterpretation.\n",
            "  FutureWarning\n",
            "/usr/local/lib/python3.7/dist-packages/seaborn/_decorators.py:43: FutureWarning: Pass the following variable as a keyword arg: x. From version 0.12, the only valid positional argument will be `data`, and passing other arguments without an explicit keyword will result in an error or misinterpretation.\n",
            "  FutureWarning\n",
            "/usr/local/lib/python3.7/dist-packages/seaborn/_decorators.py:43: FutureWarning: Pass the following variable as a keyword arg: x. From version 0.12, the only valid positional argument will be `data`, and passing other arguments without an explicit keyword will result in an error or misinterpretation.\n",
            "  FutureWarning\n",
            "/usr/local/lib/python3.7/dist-packages/seaborn/_decorators.py:43: FutureWarning: Pass the following variable as a keyword arg: x. From version 0.12, the only valid positional argument will be `data`, and passing other arguments without an explicit keyword will result in an error or misinterpretation.\n",
            "  FutureWarning\n",
            "/usr/local/lib/python3.7/dist-packages/seaborn/_decorators.py:43: FutureWarning: Pass the following variable as a keyword arg: x. From version 0.12, the only valid positional argument will be `data`, and passing other arguments without an explicit keyword will result in an error or misinterpretation.\n",
            "  FutureWarning\n",
            "/usr/local/lib/python3.7/dist-packages/seaborn/_decorators.py:43: FutureWarning: Pass the following variable as a keyword arg: x. From version 0.12, the only valid positional argument will be `data`, and passing other arguments without an explicit keyword will result in an error or misinterpretation.\n",
            "  FutureWarning\n",
            "/usr/local/lib/python3.7/dist-packages/seaborn/_decorators.py:43: FutureWarning: Pass the following variable as a keyword arg: x. From version 0.12, the only valid positional argument will be `data`, and passing other arguments without an explicit keyword will result in an error or misinterpretation.\n",
            "  FutureWarning\n",
            "/usr/local/lib/python3.7/dist-packages/seaborn/_decorators.py:43: FutureWarning: Pass the following variable as a keyword arg: x. From version 0.12, the only valid positional argument will be `data`, and passing other arguments without an explicit keyword will result in an error or misinterpretation.\n",
            "  FutureWarning\n",
            "/usr/local/lib/python3.7/dist-packages/seaborn/_decorators.py:43: FutureWarning: Pass the following variable as a keyword arg: x. From version 0.12, the only valid positional argument will be `data`, and passing other arguments without an explicit keyword will result in an error or misinterpretation.\n",
            "  FutureWarning\n",
            "/usr/local/lib/python3.7/dist-packages/seaborn/_decorators.py:43: FutureWarning: Pass the following variable as a keyword arg: x. From version 0.12, the only valid positional argument will be `data`, and passing other arguments without an explicit keyword will result in an error or misinterpretation.\n",
            "  FutureWarning\n",
            "/usr/local/lib/python3.7/dist-packages/seaborn/_decorators.py:43: FutureWarning: Pass the following variable as a keyword arg: x. From version 0.12, the only valid positional argument will be `data`, and passing other arguments without an explicit keyword will result in an error or misinterpretation.\n",
            "  FutureWarning\n",
            "/usr/local/lib/python3.7/dist-packages/seaborn/_decorators.py:43: FutureWarning: Pass the following variable as a keyword arg: x. From version 0.12, the only valid positional argument will be `data`, and passing other arguments without an explicit keyword will result in an error or misinterpretation.\n",
            "  FutureWarning\n",
            "/usr/local/lib/python3.7/dist-packages/seaborn/_decorators.py:43: FutureWarning: Pass the following variable as a keyword arg: x. From version 0.12, the only valid positional argument will be `data`, and passing other arguments without an explicit keyword will result in an error or misinterpretation.\n",
            "  FutureWarning\n",
            "/usr/local/lib/python3.7/dist-packages/seaborn/_decorators.py:43: FutureWarning: Pass the following variable as a keyword arg: x. From version 0.12, the only valid positional argument will be `data`, and passing other arguments without an explicit keyword will result in an error or misinterpretation.\n",
            "  FutureWarning\n",
            "/usr/local/lib/python3.7/dist-packages/seaborn/_decorators.py:43: FutureWarning: Pass the following variable as a keyword arg: x. From version 0.12, the only valid positional argument will be `data`, and passing other arguments without an explicit keyword will result in an error or misinterpretation.\n",
            "  FutureWarning\n",
            "WARNING: saving figure to file figures/stacked_violin_all_markers.pdf\n",
            "\n",
            "The arguments are:  Namespace(dpi=80, figsize=None, figure_type='pdf', func=<function plot_makers at 0x7fdd48b9cd40>, gene_list=['NANOG', 'POU5F1', 'PAX6', 'NES', 'MAP2', 'DCX', 'FOXG1', 'POU3F2', 'ACHE', 'CHAT', 'SLC18A3'], groupby='leiden', groups=None, input='after_ranking_gene.h5ad', n_genes=8, plot_type=['violin', 'dotplot', 'stacked_violin'], project='all_markers', show=False, use_raw=None)\n",
            "finished plotting\n"
          ],
          "name": "stdout"
        }
      ]
    },
    {
      "cell_type": "code",
      "metadata": {
        "colab": {
          "base_uri": "https://localhost:8080/"
        },
        "id": "o2yc9uFWOoi_",
        "outputId": "8714d751-6d71-4dde-d7cf-47c50fe52cf8"
      },
      "source": [
        "%ls -lth"
      ],
      "execution_count": 68,
      "outputs": [
        {
          "output_type": "stream",
          "text": [
            "total 1.1G\n",
            "drwx------ 2 root root 4.0K Mar  5 02:47 \u001b[0m\u001b[01;34mfigures\u001b[0m/\n",
            "-rw------- 1 root root 351M Mar  5 02:46 after_ranking_gene.h5ad\n",
            "-rw------- 1 root root  22K Mar  5 02:46 rank_genes_groups_r0.6.csv\n",
            "-rw------- 1 root root  16K Mar  5 02:45 rank_genes_groups_r0.4.csv\n",
            "-rw------- 1 root root  11K Mar  5 02:44 rank_genes_groups_r0.2.csv\n",
            "-rw------- 1 root root  34K Mar  5 02:44 rank_genes_groups.csv\n",
            "-rw------- 1 root root 351M Mar  5 02:43 after_leiden.h5ad\n",
            "-rw------- 1 root root 348M Mar  5 02:38 count_after_QC.h5ad\n",
            "drwx------ 2 root root 4.0K Mar  5 02:37 \u001b[01;34mcache\u001b[0m/\n"
          ],
          "name": "stdout"
        }
      ]
    },
    {
      "cell_type": "code",
      "metadata": {
        "colab": {
          "base_uri": "https://localhost:8080/"
        },
        "id": "2qhnBZaxO0u7",
        "outputId": "2644fe79-acb8-4c0e-accd-3bb9a7918ca3"
      },
      "source": [
        "adata = sc.read_h5ad(\"after_ranking_gene.h5ad\")\n",
        "adata"
      ],
      "execution_count": 79,
      "outputs": [
        {
          "output_type": "execute_result",
          "data": {
            "text/plain": [
              "AnnData object with n_obs × n_vars = 9792 × 3598\n",
              "    obs: 'n_genes', 'n_genes_by_counts', 'total_counts', 'total_counts_mt', 'pct_counts_mt', 'leiden', 'leiden_0.2', 'leiden_0.4', 'leiden_0.6'\n",
              "    var: 'gene_ids', 'feature_types', 'n_cells', 'mt', 'n_cells_by_counts', 'mean_counts', 'pct_dropout_by_counts', 'total_counts', 'highly_variable', 'means', 'dispersions', 'dispersions_norm', 'mean', 'std'\n",
              "    uns: 'leiden', 'leiden_0.2_colors', 'leiden_0.4_colors', 'leiden_0.6_colors', 'leiden_colors', 'neighbors', 'pca', 'rank_genes_groups', 'rank_genes_groups_r0.2', 'rank_genes_groups_r0.4', 'rank_genes_groups_r0.6', 'umap'\n",
              "    obsm: 'X_pca', 'X_umap'\n",
              "    varm: 'PCs'\n",
              "    obsp: 'connectivities', 'distances'"
            ]
          },
          "metadata": {
            "tags": []
          },
          "execution_count": 79
        }
      ]
    },
    {
      "cell_type": "code",
      "metadata": {
        "colab": {
          "base_uri": "https://localhost:8080/"
        },
        "id": "4hsi7ZgVOsxV",
        "outputId": "70132110-78ea-42ef-dfe1-52ba2c8163fe"
      },
      "source": [
        "for r in [\"0.2\", \"0.4\", \"0.6\"]:\n",
        "  the_type = calculate_types(adata, key=\"rank_genes_groups_r\"+r)\n",
        "  print(\"the cell types on the resolutions of \", r)\n",
        "  define_types(adata, the_type, leiden_r=\"leiden_\"+r)\n",
        "  print()"
      ],
      "execution_count": 80,
      "outputs": [
        {
          "output_type": "stream",
          "text": [
            "the cell types on the resolutions of  0.2\n",
            "Meningeal cells                3937\n",
            "Adrenergic neurons             2546\n",
            "Radial glia cells              2059\n",
            "Neural stem/precursor cells    1089\n",
            "Glutaminergic neurons           101\n",
            "Schwann cells                    60\n",
            "Name: leiden_0.2_annotation, dtype: int64\n",
            "\n",
            "the cell types on the resolutions of  0.4\n",
            "Meningeal cells                3587\n",
            "Adrenergic neurons             2234\n",
            "Radial glia cells              2019\n",
            "Dopaminergic neurons            933\n",
            "Neural stem/precursor cells     863\n",
            "Glutaminergic neurons            96\n",
            "Schwann cells                    60\n",
            "Name: leiden_0.4_annotation, dtype: int64\n",
            "\n",
            "the cell types on the resolutions of  0.6\n",
            "Meningeal cells                3540\n",
            "Adrenergic neurons             2166\n",
            "Neural stem/precursor cells    1269\n",
            "Radial glia cells              1149\n",
            "Dopaminergic neurons            958\n",
            "Tanycytes                       548\n",
            "Glutaminergic neurons           102\n",
            "Schwann cells                    60\n",
            "Name: leiden_0.6_annotation, dtype: int64\n",
            "\n"
          ],
          "name": "stdout"
        }
      ]
    },
    {
      "cell_type": "code",
      "metadata": {
        "colab": {
          "base_uri": "https://localhost:8080/"
        },
        "id": "6b40kdmMVQ5h",
        "outputId": "731b37b7-87a0-4ff8-b540-4f27235e1507"
      },
      "source": [
        "adata.write_h5ad(\"after_annotate.h5ad\")\n",
        "adata\n"
      ],
      "execution_count": 81,
      "outputs": [
        {
          "output_type": "stream",
          "text": [
            "... storing 'leiden_0.2_annotation' as categorical\n",
            "... storing 'leiden_0.4_annotation' as categorical\n",
            "... storing 'leiden_0.6_annotation' as categorical\n"
          ],
          "name": "stderr"
        },
        {
          "output_type": "execute_result",
          "data": {
            "text/plain": [
              "AnnData object with n_obs × n_vars = 9792 × 3598\n",
              "    obs: 'n_genes', 'n_genes_by_counts', 'total_counts', 'total_counts_mt', 'pct_counts_mt', 'leiden', 'leiden_0.2', 'leiden_0.4', 'leiden_0.6', 'leiden_0.2_annotation', 'leiden_0.4_annotation', 'leiden_0.6_annotation'\n",
              "    var: 'gene_ids', 'feature_types', 'n_cells', 'mt', 'n_cells_by_counts', 'mean_counts', 'pct_dropout_by_counts', 'total_counts', 'highly_variable', 'means', 'dispersions', 'dispersions_norm', 'mean', 'std'\n",
              "    uns: 'leiden', 'leiden_0.2_colors', 'leiden_0.4_colors', 'leiden_0.6_colors', 'leiden_colors', 'neighbors', 'pca', 'rank_genes_groups', 'rank_genes_groups_r0.2', 'rank_genes_groups_r0.4', 'rank_genes_groups_r0.6', 'umap'\n",
              "    obsm: 'X_pca', 'X_umap'\n",
              "    varm: 'PCs'\n",
              "    obsp: 'connectivities', 'distances'"
            ]
          },
          "metadata": {
            "tags": []
          },
          "execution_count": 81
        }
      ]
    },
    {
      "cell_type": "markdown",
      "metadata": {
        "id": "WRsCjMX9QuRM"
      },
      "source": [
        "# Process the hypothalamic_1"
      ]
    },
    {
      "cell_type": "code",
      "metadata": {
        "colab": {
          "base_uri": "https://localhost:8080/"
        },
        "id": "cqML_C1OUEMK",
        "outputId": "5c5e1430-b4f1-4aaa-8112-ac872e7a83bb"
      },
      "source": [
        "%cd ../hypothalamic/"
      ],
      "execution_count": 69,
      "outputs": [
        {
          "output_type": "stream",
          "text": [
            "/content/drive/Shareddrives/CARD/projects/iNDI/Data/Discovery planning phase/Informatics_Lirong/projects_lirong/Florian_data/annotate/hypothalamic\n"
          ],
          "name": "stdout"
        }
      ]
    },
    {
      "cell_type": "code",
      "metadata": {
        "id": "o-79bSX1DXBr"
      },
      "source": [
        "PATH_cor = \"cortical_dopaminergic_sample_1\"\n",
        "PATH_dop = \"cortical_dopaminergic_sample_3\"\n",
        "PATH_hyp = \"hypothalamic_sample_1\""
      ],
      "execution_count": null,
      "outputs": []
    },
    {
      "cell_type": "code",
      "metadata": {
        "colab": {
          "base_uri": "https://localhost:8080/"
        },
        "id": "onFiZRHXUUWd",
        "outputId": "81ae65a3-78d3-4500-ccc0-b5d4a8c7178f"
      },
      "source": [
        "%ls -lth"
      ],
      "execution_count": 70,
      "outputs": [
        {
          "output_type": "stream",
          "text": [
            "total 0\n"
          ],
          "name": "stdout"
        }
      ]
    },
    {
      "cell_type": "code",
      "metadata": {
        "colab": {
          "base_uri": "https://localhost:8080/"
        },
        "id": "ePPElCeTQ7gt",
        "outputId": "84c5abe3-6504-4e98-b5ba-617cdeba593d"
      },
      "source": [
        "RUN_SH=\"4March2021_run_scanpy_Florian_hypothalamic.sh\"\n",
        "!bash {module_path}/notes/{RUN_SH} ../../{PATH_hyp}/filtered_cellranger_matrix"
      ],
      "execution_count": 71,
      "outputs": [
        {
          "output_type": "stream",
          "text": [
            "Processing ../../hypothalamic_sample_1/filtered_cellranger_matrix\n",
            "The arguments are:  Namespace(color_gene='MAP2', dpi=80, exclude_highly_expressed=True, figsize=None, figure_type='pdf', input='../../hypothalamic_sample_1/filtered_cellranger_matrix', min_cells=3, min_genes=200, n_genes_by_counts=7000, n_top=20, out='count_after_QC', pct_counts_mt=20.0, project='', show=False)\n",
            "\n",
            "exclude_highly_expressed is  True\n",
            "\n",
            "scanpy==1.5.1 anndata==0.7.5 umap==0.4.6 numpy==1.19.5 scipy==1.4.1 pandas==1.1.5 scikit-learn==0.22.2.post1 statsmodels==0.10.2 python-igraph==0.9.0 leidenalg==0.8.3\n",
            "Running Scanpy 1.5.1, on 2021-03-05 02:57.\n",
            "... writing an h5ad cache file to speedup reading next time\n",
            "normalizing counts per cell\n",
            "    finished (0:00:00)\n",
            "WARNING: saving figure to file figures/highest_expr_genes.pdf\n",
            "filtered out 8 cells that have less than 200 genes expressed\n",
            "filtered out 9029 genes that are detected in less than 3 cells\n",
            "... storing 'feature_types' as categorical\n",
            "/usr/local/lib/python3.7/dist-packages/seaborn/_core.py:1319: UserWarning: Vertical orientation ignored with only `x` specified.\n",
            "  warnings.warn(single_var_warning.format(\"Vertical\", \"x\"))\n",
            "/usr/local/lib/python3.7/dist-packages/seaborn/_core.py:1319: UserWarning: Vertical orientation ignored with only `x` specified.\n",
            "  warnings.warn(single_var_warning.format(\"Vertical\", \"x\"))\n",
            "/usr/local/lib/python3.7/dist-packages/seaborn/_core.py:1319: UserWarning: Vertical orientation ignored with only `x` specified.\n",
            "  warnings.warn(single_var_warning.format(\"Vertical\", \"x\"))\n",
            "/usr/local/lib/python3.7/dist-packages/seaborn/_core.py:1319: UserWarning: Vertical orientation ignored with only `x` specified.\n",
            "  warnings.warn(single_var_warning.format(\"Vertical\", \"x\"))\n",
            "/usr/local/lib/python3.7/dist-packages/seaborn/_core.py:1319: UserWarning: Vertical orientation ignored with only `x` specified.\n",
            "  warnings.warn(single_var_warning.format(\"Vertical\", \"x\"))\n",
            "/usr/local/lib/python3.7/dist-packages/seaborn/_core.py:1319: UserWarning: Vertical orientation ignored with only `x` specified.\n",
            "  warnings.warn(single_var_warning.format(\"Vertical\", \"x\"))\n",
            "WARNING: saving figure to file figures/violin_qc.pdf\n",
            "WARNING: saving figure to file figures/scatter1.pdf\n",
            "WARNING: saving figure to file figures/scatter2.pdf\n",
            "/usr/local/lib/python3.7/dist-packages/scanpy/preprocessing/_normalization.py:138: UserWarning: Revieved a view of an AnnData. Making a copy.\n",
            "  view_to_actual(adata)\n",
            "normalizing counts per cell The following highly-expressed genes are not considered during normalization factor computation:\n",
            "['SST', 'MALAT1', 'MT-CO1']\n",
            "    finished (0:00:00)\n",
            "extracting highly variable genes\n",
            "    finished (0:00:01)\n",
            "--> added\n",
            "    'highly_variable', boolean vector (adata.var)\n",
            "    'means', float vector (adata.var)\n",
            "    'dispersions', float vector (adata.var)\n",
            "    'dispersions_norm', float vector (adata.var)\n",
            "WARNING: saving figure to file figures/filter_genes_dispersion.pdf\n",
            "regressing out ['total_counts', 'pct_counts_mt']\n",
            "    sparse input is densified and may lead to high memory use\n",
            "/usr/local/lib/python3.7/dist-packages/statsmodels/tools/_testing.py:19: FutureWarning: pandas.util.testing is deprecated. Use the functions in the public API at pandas.testing instead.\n",
            "  import pandas.util.testing as tm\n",
            "    finished (0:01:04)\n",
            "computing PCA\n",
            "    on highly variable genes\n",
            "    with n_comps=50\n",
            "    finished (0:00:07)\n",
            "WARNING: saving figure to file figures/pca.pdf\n",
            "WARNING: saving figure to file figures/pca_variance_ratio.pdf\n",
            "finished QC\n",
            "+++++++++++++++\n",
            "Running Scanpy 1.5.1, on 2021-03-05 03:02.\n",
            "scanpy==1.5.1 anndata==0.7.5 umap==0.4.6 numpy==1.19.5 scipy==1.4.1 pandas==1.1.5 scikit-learn==0.22.2.post1 statsmodels==0.10.2 python-igraph==0.9.0 leidenalg==0.8.3\n",
            "computing neighbors\n",
            "    using 'X_pca' with n_pcs = 50\n",
            "    finished: added to `.uns['neighbors']`\n",
            "    `.obsp['distances']`, distances for each pair of neighbors\n",
            "    `.obsp['connectivities']`, weighted adjacency matrix (0:00:04)\n",
            "computing UMAP\n",
            "    finished: added\n",
            "    'X_umap', UMAP coordinates (adata.obsm) (0:00:20)\n",
            "running Leiden clustering\n",
            "    finished: found 21 clusters and added\n",
            "    'leiden', the cluster labels (adata.obs, categorical) (0:00:00)\n",
            "WARNING: saving figure to file figures/umap_after_leiden.pdf\n",
            "\n",
            "The arguments are Namespace(color_gene='leiden', dpi=80, figsize=None, figure_type='pdf', func=<function cluster at 0x7f0980f2d170>, input='count_after_QC.h5ad', key_added='leiden', method='umap', metric='euclidean', n_neighbors=15, n_pcs=None, out='after_leiden.h5ad', project='', resolution=1.0, show=False)\n",
            "Running Scanpy 1.5.1, on 2021-03-05 03:03.\n",
            "scanpy==1.5.1 anndata==0.7.5 umap==0.4.6 numpy==1.19.5 scipy==1.4.1 pandas==1.1.5 scikit-learn==0.22.2.post1 statsmodels==0.10.2 python-igraph==0.9.0 leidenalg==0.8.3\n",
            "computing neighbors\n",
            "    using 'X_pca' with n_pcs = 50\n",
            "    finished: added to `.uns['neighbors']`\n",
            "    `.obsp['distances']`, distances for each pair of neighbors\n",
            "    `.obsp['connectivities']`, weighted adjacency matrix (0:00:04)\n",
            "computing UMAP\n",
            "    finished: added\n",
            "    'X_umap', UMAP coordinates (adata.obsm) (0:00:20)\n",
            "running Leiden clustering\n",
            "    finished: found 7 clusters and added\n",
            "    'leiden_0.2', the cluster labels (adata.obs, categorical) (0:00:00)\n",
            "WARNING: saving figure to file figures/umap_after_leiden_2r.pdf\n",
            "<Figure size 772.8x320 with 2 Axes>\n",
            "\n",
            "The arguments are Namespace(color_gene=['leiden_0.2', 'leiden'], dpi=80, figsize=None, figure_type='pdf', func=<function cluster at 0x7f12d17b4170>, input='after_leiden.h5ad', key_added='leiden_0.2', method='umap', metric='euclidean', n_neighbors=15, n_pcs=None, out='after_leiden.h5ad', project='2r', resolution=0.2, show=None)\n",
            "Running Scanpy 1.5.1, on 2021-03-05 03:04.\n",
            "scanpy==1.5.1 anndata==0.7.5 umap==0.4.6 numpy==1.19.5 scipy==1.4.1 pandas==1.1.5 scikit-learn==0.22.2.post1 statsmodels==0.10.2 python-igraph==0.9.0 leidenalg==0.8.3\n",
            "computing neighbors\n",
            "    using 'X_pca' with n_pcs = 50\n",
            "    finished: added to `.uns['neighbors']`\n",
            "    `.obsp['distances']`, distances for each pair of neighbors\n",
            "    `.obsp['connectivities']`, weighted adjacency matrix (0:00:04)\n",
            "computing UMAP\n",
            "    finished: added\n",
            "    'X_umap', UMAP coordinates (adata.obsm) (0:00:20)\n",
            "running Leiden clustering\n",
            "    finished: found 13 clusters and added\n",
            "    'leiden_0.4', the cluster labels (adata.obs, categorical) (0:00:00)\n",
            "WARNING: saving figure to file figures/umap_after_leiden_3r.pdf\n",
            "<Figure size 1159.2x320 with 3 Axes>\n",
            "\n",
            "The arguments are Namespace(color_gene=['leiden_0.2', 'leiden_0.4', 'leiden'], dpi=80, figsize=None, figure_type='pdf', func=<function cluster at 0x7f56b32cf170>, input='after_leiden.h5ad', key_added='leiden_0.4', method='umap', metric='euclidean', n_neighbors=15, n_pcs=None, out='after_leiden.h5ad', project='3r', resolution=0.4, show=None)\n",
            "Running Scanpy 1.5.1, on 2021-03-05 03:05.\n",
            "scanpy==1.5.1 anndata==0.7.5 umap==0.4.6 numpy==1.19.5 scipy==1.4.1 pandas==1.1.5 scikit-learn==0.22.2.post1 statsmodels==0.10.2 python-igraph==0.9.0 leidenalg==0.8.3\n",
            "computing neighbors\n",
            "    using 'X_pca' with n_pcs = 50\n",
            "    finished: added to `.uns['neighbors']`\n",
            "    `.obsp['distances']`, distances for each pair of neighbors\n",
            "    `.obsp['connectivities']`, weighted adjacency matrix (0:00:04)\n",
            "computing UMAP\n",
            "    finished: added\n",
            "    'X_umap', UMAP coordinates (adata.obsm) (0:00:20)\n",
            "running Leiden clustering\n",
            "    finished: found 16 clusters and added\n",
            "    'leiden_0.6', the cluster labels (adata.obs, categorical) (0:00:00)\n",
            "WARNING: saving figure to file figures/umap_after_leiden_4r.pdf\n",
            "<Figure size 1545.6x320 with 4 Axes>\n",
            "\n",
            "The arguments are Namespace(color_gene=['leiden_0.2', 'leiden_0.4', 'leiden_0.6', 'leiden'], dpi=80, figsize=None, figure_type='pdf', func=<function cluster at 0x7f0bac659170>, input='after_leiden.h5ad', key_added='leiden_0.6', method='umap', metric='euclidean', n_neighbors=15, n_pcs=None, out='after_leiden.h5ad', project='4r', resolution=0.6, show=None)\n",
            "finished clustering\n",
            "+++++++++++++++\n",
            "scanpy==1.5.1 anndata==0.7.5 umap==0.4.6 numpy==1.19.5 scipy==1.4.1 pandas==1.1.5 scikit-learn==0.22.2.post1 statsmodels==0.10.2 python-igraph==0.9.0 leidenalg==0.8.3\n",
            "Running Scanpy 1.5.1, on 2021-03-05 03:06.\n",
            "ranking genes\n",
            "/usr/local/lib/python3.7/dist-packages/statsmodels/tools/_testing.py:19: FutureWarning: pandas.util.testing is deprecated. Use the functions in the public API at pandas.testing instead.\n",
            "  import pandas.util.testing as tm\n",
            "    finished (0:00:20)\n",
            "WARNING: saving figure to file figures/rank_genes_groups_leiden.pdf\n",
            "\n",
            "The arguments are:  Namespace(corr_method='benjamini-hochberg', dpi=80, export_num=50, figsize=None, figure_type='pdf', func=<function markers at 0x7f2bd30c9440>, groupby='leiden', groups='all', input='after_leiden.h5ad', key_added=None, method='wilcoxon', n_genes=25, out='after_ranking_gene.h5ad', project='', reference='rest', show=False)\n",
            "scanpy==1.5.1 anndata==0.7.5 umap==0.4.6 numpy==1.19.5 scipy==1.4.1 pandas==1.1.5 scikit-learn==0.22.2.post1 statsmodels==0.10.2 python-igraph==0.9.0 leidenalg==0.8.3\n",
            "Running Scanpy 1.5.1, on 2021-03-05 03:07.\n",
            "ranking genes\n",
            "/usr/local/lib/python3.7/dist-packages/statsmodels/tools/_testing.py:19: FutureWarning: pandas.util.testing is deprecated. Use the functions in the public API at pandas.testing instead.\n",
            "  import pandas.util.testing as tm\n",
            "    finished (0:00:15)\n",
            "WARNING: saving figure to file figures/rank_genes_groups_leiden_0.2.pdf\n",
            "<Figure size 1280x640 with 7 Axes>\n",
            "\n",
            "The arguments are:  Namespace(corr_method='benjamini-hochberg', dpi=80, export_num=50, figsize=None, figure_type='pdf', func=<function markers at 0x7f3d13add440>, groupby='leiden_0.2', groups='all', input='after_ranking_gene.h5ad', key_added='rank_genes_groups_r0.2', method='wilcoxon', n_genes=25, out='after_ranking_gene.h5ad', project='', reference='rest', show=None)\n",
            "scanpy==1.5.1 anndata==0.7.5 umap==0.4.6 numpy==1.19.5 scipy==1.4.1 pandas==1.1.5 scikit-learn==0.22.2.post1 statsmodels==0.10.2 python-igraph==0.9.0 leidenalg==0.8.3\n",
            "Running Scanpy 1.5.1, on 2021-03-05 03:07.\n",
            "ranking genes\n",
            "/usr/local/lib/python3.7/dist-packages/statsmodels/tools/_testing.py:19: FutureWarning: pandas.util.testing is deprecated. Use the functions in the public API at pandas.testing instead.\n",
            "  import pandas.util.testing as tm\n",
            "    finished (0:00:17)\n",
            "WARNING: saving figure to file figures/rank_genes_groups_leiden_0.4.pdf\n",
            "<Figure size 1280x1280 with 13 Axes>\n",
            "\n",
            "The arguments are:  Namespace(corr_method='benjamini-hochberg', dpi=80, export_num=50, figsize=None, figure_type='pdf', func=<function markers at 0x7ff2fbf22440>, groupby='leiden_0.4', groups='all', input='after_ranking_gene.h5ad', key_added='rank_genes_groups_r0.4', method='wilcoxon', n_genes=25, out='after_ranking_gene.h5ad', project='', reference='rest', show=None)\n",
            "scanpy==1.5.1 anndata==0.7.5 umap==0.4.6 numpy==1.19.5 scipy==1.4.1 pandas==1.1.5 scikit-learn==0.22.2.post1 statsmodels==0.10.2 python-igraph==0.9.0 leidenalg==0.8.3\n",
            "Running Scanpy 1.5.1, on 2021-03-05 03:08.\n",
            "ranking genes\n",
            "/usr/local/lib/python3.7/dist-packages/statsmodels/tools/_testing.py:19: FutureWarning: pandas.util.testing is deprecated. Use the functions in the public API at pandas.testing instead.\n",
            "  import pandas.util.testing as tm\n",
            "    finished (0:00:18)\n",
            "WARNING: saving figure to file figures/rank_genes_groups_leiden_0.6.pdf\n",
            "<Figure size 1280x1280 with 16 Axes>\n",
            "\n",
            "The arguments are:  Namespace(corr_method='benjamini-hochberg', dpi=80, export_num=50, figsize=None, figure_type='pdf', func=<function markers at 0x7f019ce6a440>, groupby='leiden_0.6', groups='all', input='after_ranking_gene.h5ad', key_added='rank_genes_groups_r0.6', method='wilcoxon', n_genes=25, out='after_ranking_gene.h5ad', project='', reference='rest', show=None)\n",
            "finished ranking\n",
            "+++++++++++++++\n",
            "plotting umap\n",
            "WARNING: saving figure to file figures/umap_gene_expr_pluripotent.pdf\n",
            "\n",
            "The arguments are:  Namespace(dpi=80, figsize=None, figure_type='pdf', func=<function plot_makers at 0x7fe3c1df9d40>, gene_list=['NANOG', 'POU5F1'], groupby='leiden', groups=None, input='after_ranking_gene.h5ad', n_genes=8, plot_type=['umap'], project='pluripotent', show=False, use_raw=None)\n",
            "usage: plot_markers_4.py [-h] [-i INPUT] [-d DPI] [-s FIGSIZE FIGSIZE]\n",
            "                         [-f FIGURE_TYPE] [-p PROJECT] [-S SHOW] [-r USE_RAW]\n",
            "                         [-g [GENE_LIST [GENE_LIST ...]]]\n",
            "                         [-t [PLOT_TYPE [PLOT_TYPE ...]]] [-b GROUPBY]\n",
            "                         [-n N_GENES] [-G [GROUPS [GROUPS ...]]]\n",
            "plot_markers_4.py: error: unrecognized arguments: precursor\n",
            "usage: plot_markers_4.py [-h] [-i INPUT] [-d DPI] [-s FIGSIZE FIGSIZE]\n",
            "                         [-f FIGURE_TYPE] [-p PROJECT] [-S SHOW] [-r USE_RAW]\n",
            "                         [-g [GENE_LIST [GENE_LIST ...]]]\n",
            "                         [-t [PLOT_TYPE [PLOT_TYPE ...]]] [-b GROUPBY]\n",
            "                         [-n N_GENES] [-G [GROUPS [GROUPS ...]]]\n",
            "plot_markers_4.py: error: unrecognized arguments: progenitor\n",
            "usage: plot_markers_4.py [-h] [-i INPUT] [-d DPI] [-s FIGSIZE FIGSIZE]\n",
            "                         [-f FIGURE_TYPE] [-p PROJECT] [-S SHOW] [-r USE_RAW]\n",
            "                         [-g [GENE_LIST [GENE_LIST ...]]]\n",
            "                         [-t [PLOT_TYPE [PLOT_TYPE ...]]] [-b GROUPBY]\n",
            "                         [-n N_GENES] [-G [GROUPS [GROUPS ...]]]\n",
            "plot_markers_4.py: error: unrecognized arguments: neurons\n",
            "usage: plot_markers_4.py [-h] [-i INPUT] [-d DPI] [-s FIGSIZE FIGSIZE]\n",
            "                         [-f FIGURE_TYPE] [-p PROJECT] [-S SHOW] [-r USE_RAW]\n",
            "                         [-g [GENE_LIST [GENE_LIST ...]]]\n",
            "                         [-t [PLOT_TYPE [PLOT_TYPE ...]]] [-b GROUPBY]\n",
            "                         [-n N_GENES] [-G [GROUPS [GROUPS ...]]]\n",
            "plot_markers_4.py: error: unrecognized arguments: neuronal\n",
            "plotting violin\n",
            "/usr/local/lib/python3.7/dist-packages/seaborn/_decorators.py:43: FutureWarning: Pass the following variable as a keyword arg: x. From version 0.12, the only valid positional argument will be `data`, and passing other arguments without an explicit keyword will result in an error or misinterpretation.\n",
            "  FutureWarning\n",
            "/usr/local/lib/python3.7/dist-packages/seaborn/_decorators.py:43: FutureWarning: Pass the following variable as a keyword arg: x. From version 0.12, the only valid positional argument will be `data`, and passing other arguments without an explicit keyword will result in an error or misinterpretation.\n",
            "  FutureWarning\n",
            "/usr/local/lib/python3.7/dist-packages/seaborn/_decorators.py:43: FutureWarning: Pass the following variable as a keyword arg: x. From version 0.12, the only valid positional argument will be `data`, and passing other arguments without an explicit keyword will result in an error or misinterpretation.\n",
            "  FutureWarning\n",
            "/usr/local/lib/python3.7/dist-packages/seaborn/_decorators.py:43: FutureWarning: Pass the following variable as a keyword arg: x. From version 0.12, the only valid positional argument will be `data`, and passing other arguments without an explicit keyword will result in an error or misinterpretation.\n",
            "  FutureWarning\n",
            "/usr/local/lib/python3.7/dist-packages/seaborn/_decorators.py:43: FutureWarning: Pass the following variable as a keyword arg: x. From version 0.12, the only valid positional argument will be `data`, and passing other arguments without an explicit keyword will result in an error or misinterpretation.\n",
            "  FutureWarning\n",
            "/usr/local/lib/python3.7/dist-packages/seaborn/_decorators.py:43: FutureWarning: Pass the following variable as a keyword arg: x. From version 0.12, the only valid positional argument will be `data`, and passing other arguments without an explicit keyword will result in an error or misinterpretation.\n",
            "  FutureWarning\n",
            "/usr/local/lib/python3.7/dist-packages/seaborn/_decorators.py:43: FutureWarning: Pass the following variable as a keyword arg: x. From version 0.12, the only valid positional argument will be `data`, and passing other arguments without an explicit keyword will result in an error or misinterpretation.\n",
            "  FutureWarning\n",
            "/usr/local/lib/python3.7/dist-packages/seaborn/_decorators.py:43: FutureWarning: Pass the following variable as a keyword arg: x. From version 0.12, the only valid positional argument will be `data`, and passing other arguments without an explicit keyword will result in an error or misinterpretation.\n",
            "  FutureWarning\n",
            "/usr/local/lib/python3.7/dist-packages/seaborn/_decorators.py:43: FutureWarning: Pass the following variable as a keyword arg: x. From version 0.12, the only valid positional argument will be `data`, and passing other arguments without an explicit keyword will result in an error or misinterpretation.\n",
            "  FutureWarning\n",
            "/usr/local/lib/python3.7/dist-packages/seaborn/_decorators.py:43: FutureWarning: Pass the following variable as a keyword arg: x. From version 0.12, the only valid positional argument will be `data`, and passing other arguments without an explicit keyword will result in an error or misinterpretation.\n",
            "  FutureWarning\n",
            "/usr/local/lib/python3.7/dist-packages/seaborn/_decorators.py:43: FutureWarning: Pass the following variable as a keyword arg: x. From version 0.12, the only valid positional argument will be `data`, and passing other arguments without an explicit keyword will result in an error or misinterpretation.\n",
            "  FutureWarning\n",
            "/usr/local/lib/python3.7/dist-packages/seaborn/_decorators.py:43: FutureWarning: Pass the following variable as a keyword arg: x. From version 0.12, the only valid positional argument will be `data`, and passing other arguments without an explicit keyword will result in an error or misinterpretation.\n",
            "  FutureWarning\n",
            "WARNING: saving figure to file figures/violin_glutamatergic.pdf\n",
            "plotting umap\n",
            "WARNING: saving figure to file figures/umap_gene_expr_glutamatergic.pdf\n",
            "\n",
            "The arguments are:  Namespace(dpi=80, figsize=None, figure_type='pdf', func=<function plot_makers at 0x7ff6a322c440>, gene_list=['SLC17A7', 'SLC17A6', 'GRIN1', 'GRIN2B', 'GLS', 'GLUL'], groupby='leiden', groups=None, input='after_ranking_gene.h5ad', n_genes=8, plot_type=['violin', 'umap'], project='glutamatergic', show=False, use_raw=None)\n",
            "plotting umap\n",
            "WARNING: saving figure to file figures/umap_gene_expr_colinergic.pdf\n",
            "\n",
            "The arguments are:  Namespace(dpi=80, figsize=None, figure_type='pdf', func=<function plot_makers at 0x7f2b667e7d40>, gene_list=['ACHE', 'CHAT', 'SLC18A3'], groupby='leiden', groups=None, input='after_ranking_gene.h5ad', n_genes=8, plot_type=['umap'], project='colinergic', show=False, use_raw=None)\n",
            "plotting umap\n",
            "WARNING: saving figure to file figures/umap_gene_expr_excitatory.pdf\n",
            "\n",
            "The arguments are:  Namespace(dpi=80, figsize=None, figure_type='pdf', func=<function plot_makers at 0x7fbc9b6a5d40>, gene_list=['FOXG1', 'POU3F2'], groupby='leiden', groups=None, input='after_ranking_gene.h5ad', n_genes=8, plot_type=['umap'], project='excitatory', show=False, use_raw=None)\n",
            "plotting violin\n",
            "/usr/local/lib/python3.7/dist-packages/seaborn/_decorators.py:43: FutureWarning: Pass the following variable as a keyword arg: x. From version 0.12, the only valid positional argument will be `data`, and passing other arguments without an explicit keyword will result in an error or misinterpretation.\n",
            "  FutureWarning\n",
            "/usr/local/lib/python3.7/dist-packages/seaborn/_decorators.py:43: FutureWarning: Pass the following variable as a keyword arg: x. From version 0.12, the only valid positional argument will be `data`, and passing other arguments without an explicit keyword will result in an error or misinterpretation.\n",
            "  FutureWarning\n",
            "/usr/local/lib/python3.7/dist-packages/seaborn/_decorators.py:43: FutureWarning: Pass the following variable as a keyword arg: x. From version 0.12, the only valid positional argument will be `data`, and passing other arguments without an explicit keyword will result in an error or misinterpretation.\n",
            "  FutureWarning\n",
            "/usr/local/lib/python3.7/dist-packages/seaborn/_decorators.py:43: FutureWarning: Pass the following variable as a keyword arg: x. From version 0.12, the only valid positional argument will be `data`, and passing other arguments without an explicit keyword will result in an error or misinterpretation.\n",
            "  FutureWarning\n",
            "/usr/local/lib/python3.7/dist-packages/seaborn/_decorators.py:43: FutureWarning: Pass the following variable as a keyword arg: x. From version 0.12, the only valid positional argument will be `data`, and passing other arguments without an explicit keyword will result in an error or misinterpretation.\n",
            "  FutureWarning\n",
            "/usr/local/lib/python3.7/dist-packages/seaborn/_decorators.py:43: FutureWarning: Pass the following variable as a keyword arg: x. From version 0.12, the only valid positional argument will be `data`, and passing other arguments without an explicit keyword will result in an error or misinterpretation.\n",
            "  FutureWarning\n",
            "/usr/local/lib/python3.7/dist-packages/seaborn/_decorators.py:43: FutureWarning: Pass the following variable as a keyword arg: x. From version 0.12, the only valid positional argument will be `data`, and passing other arguments without an explicit keyword will result in an error or misinterpretation.\n",
            "  FutureWarning\n",
            "/usr/local/lib/python3.7/dist-packages/seaborn/_decorators.py:43: FutureWarning: Pass the following variable as a keyword arg: x. From version 0.12, the only valid positional argument will be `data`, and passing other arguments without an explicit keyword will result in an error or misinterpretation.\n",
            "  FutureWarning\n",
            "/usr/local/lib/python3.7/dist-packages/seaborn/_decorators.py:43: FutureWarning: Pass the following variable as a keyword arg: x. From version 0.12, the only valid positional argument will be `data`, and passing other arguments without an explicit keyword will result in an error or misinterpretation.\n",
            "  FutureWarning\n",
            "/usr/local/lib/python3.7/dist-packages/seaborn/_decorators.py:43: FutureWarning: Pass the following variable as a keyword arg: x. From version 0.12, the only valid positional argument will be `data`, and passing other arguments without an explicit keyword will result in an error or misinterpretation.\n",
            "  FutureWarning\n",
            "/usr/local/lib/python3.7/dist-packages/seaborn/_decorators.py:43: FutureWarning: Pass the following variable as a keyword arg: x. From version 0.12, the only valid positional argument will be `data`, and passing other arguments without an explicit keyword will result in an error or misinterpretation.\n",
            "  FutureWarning\n",
            "/usr/local/lib/python3.7/dist-packages/seaborn/_decorators.py:43: FutureWarning: Pass the following variable as a keyword arg: x. From version 0.12, the only valid positional argument will be `data`, and passing other arguments without an explicit keyword will result in an error or misinterpretation.\n",
            "  FutureWarning\n",
            "/usr/local/lib/python3.7/dist-packages/seaborn/_decorators.py:43: FutureWarning: Pass the following variable as a keyword arg: x. From version 0.12, the only valid positional argument will be `data`, and passing other arguments without an explicit keyword will result in an error or misinterpretation.\n",
            "  FutureWarning\n",
            "/usr/local/lib/python3.7/dist-packages/seaborn/_decorators.py:43: FutureWarning: Pass the following variable as a keyword arg: x. From version 0.12, the only valid positional argument will be `data`, and passing other arguments without an explicit keyword will result in an error or misinterpretation.\n",
            "  FutureWarning\n",
            "/usr/local/lib/python3.7/dist-packages/seaborn/_decorators.py:43: FutureWarning: Pass the following variable as a keyword arg: x. From version 0.12, the only valid positional argument will be `data`, and passing other arguments without an explicit keyword will result in an error or misinterpretation.\n",
            "  FutureWarning\n",
            "/usr/local/lib/python3.7/dist-packages/seaborn/_decorators.py:43: FutureWarning: Pass the following variable as a keyword arg: x. From version 0.12, the only valid positional argument will be `data`, and passing other arguments without an explicit keyword will result in an error or misinterpretation.\n",
            "  FutureWarning\n",
            "/usr/local/lib/python3.7/dist-packages/seaborn/_decorators.py:43: FutureWarning: Pass the following variable as a keyword arg: x. From version 0.12, the only valid positional argument will be `data`, and passing other arguments without an explicit keyword will result in an error or misinterpretation.\n",
            "  FutureWarning\n",
            "/usr/local/lib/python3.7/dist-packages/seaborn/_decorators.py:43: FutureWarning: Pass the following variable as a keyword arg: x. From version 0.12, the only valid positional argument will be `data`, and passing other arguments without an explicit keyword will result in an error or misinterpretation.\n",
            "  FutureWarning\n",
            "/usr/local/lib/python3.7/dist-packages/seaborn/_decorators.py:43: FutureWarning: Pass the following variable as a keyword arg: x. From version 0.12, the only valid positional argument will be `data`, and passing other arguments without an explicit keyword will result in an error or misinterpretation.\n",
            "  FutureWarning\n",
            "/usr/local/lib/python3.7/dist-packages/seaborn/_decorators.py:43: FutureWarning: Pass the following variable as a keyword arg: x. From version 0.12, the only valid positional argument will be `data`, and passing other arguments without an explicit keyword will result in an error or misinterpretation.\n",
            "  FutureWarning\n",
            "/usr/local/lib/python3.7/dist-packages/seaborn/_decorators.py:43: FutureWarning: Pass the following variable as a keyword arg: x. From version 0.12, the only valid positional argument will be `data`, and passing other arguments without an explicit keyword will result in an error or misinterpretation.\n",
            "  FutureWarning\n",
            "/usr/local/lib/python3.7/dist-packages/seaborn/_decorators.py:43: FutureWarning: Pass the following variable as a keyword arg: x. From version 0.12, the only valid positional argument will be `data`, and passing other arguments without an explicit keyword will result in an error or misinterpretation.\n",
            "  FutureWarning\n",
            "WARNING: saving figure to file figures/violin_all_markers.pdf\n",
            "plotting dotplot\n",
            "WARNING: saving figure to file figures/dotplot_all_markers.pdf\n",
            "plotting stacked_violin\n",
            "/usr/local/lib/python3.7/dist-packages/seaborn/_decorators.py:43: FutureWarning: Pass the following variable as a keyword arg: x. From version 0.12, the only valid positional argument will be `data`, and passing other arguments without an explicit keyword will result in an error or misinterpretation.\n",
            "  FutureWarning\n",
            "/usr/local/lib/python3.7/dist-packages/seaborn/_decorators.py:43: FutureWarning: Pass the following variable as a keyword arg: x. From version 0.12, the only valid positional argument will be `data`, and passing other arguments without an explicit keyword will result in an error or misinterpretation.\n",
            "  FutureWarning\n",
            "/usr/local/lib/python3.7/dist-packages/seaborn/_decorators.py:43: FutureWarning: Pass the following variable as a keyword arg: x. From version 0.12, the only valid positional argument will be `data`, and passing other arguments without an explicit keyword will result in an error or misinterpretation.\n",
            "  FutureWarning\n",
            "/usr/local/lib/python3.7/dist-packages/seaborn/_decorators.py:43: FutureWarning: Pass the following variable as a keyword arg: x. From version 0.12, the only valid positional argument will be `data`, and passing other arguments without an explicit keyword will result in an error or misinterpretation.\n",
            "  FutureWarning\n",
            "/usr/local/lib/python3.7/dist-packages/seaborn/_decorators.py:43: FutureWarning: Pass the following variable as a keyword arg: x. From version 0.12, the only valid positional argument will be `data`, and passing other arguments without an explicit keyword will result in an error or misinterpretation.\n",
            "  FutureWarning\n",
            "/usr/local/lib/python3.7/dist-packages/seaborn/_decorators.py:43: FutureWarning: Pass the following variable as a keyword arg: x. From version 0.12, the only valid positional argument will be `data`, and passing other arguments without an explicit keyword will result in an error or misinterpretation.\n",
            "  FutureWarning\n",
            "/usr/local/lib/python3.7/dist-packages/seaborn/_decorators.py:43: FutureWarning: Pass the following variable as a keyword arg: x. From version 0.12, the only valid positional argument will be `data`, and passing other arguments without an explicit keyword will result in an error or misinterpretation.\n",
            "  FutureWarning\n",
            "/usr/local/lib/python3.7/dist-packages/seaborn/_decorators.py:43: FutureWarning: Pass the following variable as a keyword arg: x. From version 0.12, the only valid positional argument will be `data`, and passing other arguments without an explicit keyword will result in an error or misinterpretation.\n",
            "  FutureWarning\n",
            "/usr/local/lib/python3.7/dist-packages/seaborn/_decorators.py:43: FutureWarning: Pass the following variable as a keyword arg: x. From version 0.12, the only valid positional argument will be `data`, and passing other arguments without an explicit keyword will result in an error or misinterpretation.\n",
            "  FutureWarning\n",
            "/usr/local/lib/python3.7/dist-packages/seaborn/_decorators.py:43: FutureWarning: Pass the following variable as a keyword arg: x. From version 0.12, the only valid positional argument will be `data`, and passing other arguments without an explicit keyword will result in an error or misinterpretation.\n",
            "  FutureWarning\n",
            "/usr/local/lib/python3.7/dist-packages/seaborn/_decorators.py:43: FutureWarning: Pass the following variable as a keyword arg: x. From version 0.12, the only valid positional argument will be `data`, and passing other arguments without an explicit keyword will result in an error or misinterpretation.\n",
            "  FutureWarning\n",
            "/usr/local/lib/python3.7/dist-packages/seaborn/_decorators.py:43: FutureWarning: Pass the following variable as a keyword arg: x. From version 0.12, the only valid positional argument will be `data`, and passing other arguments without an explicit keyword will result in an error or misinterpretation.\n",
            "  FutureWarning\n",
            "/usr/local/lib/python3.7/dist-packages/seaborn/_decorators.py:43: FutureWarning: Pass the following variable as a keyword arg: x. From version 0.12, the only valid positional argument will be `data`, and passing other arguments without an explicit keyword will result in an error or misinterpretation.\n",
            "  FutureWarning\n",
            "/usr/local/lib/python3.7/dist-packages/seaborn/_decorators.py:43: FutureWarning: Pass the following variable as a keyword arg: x. From version 0.12, the only valid positional argument will be `data`, and passing other arguments without an explicit keyword will result in an error or misinterpretation.\n",
            "  FutureWarning\n",
            "/usr/local/lib/python3.7/dist-packages/seaborn/_decorators.py:43: FutureWarning: Pass the following variable as a keyword arg: x. From version 0.12, the only valid positional argument will be `data`, and passing other arguments without an explicit keyword will result in an error or misinterpretation.\n",
            "  FutureWarning\n",
            "/usr/local/lib/python3.7/dist-packages/seaborn/_decorators.py:43: FutureWarning: Pass the following variable as a keyword arg: x. From version 0.12, the only valid positional argument will be `data`, and passing other arguments without an explicit keyword will result in an error or misinterpretation.\n",
            "  FutureWarning\n",
            "/usr/local/lib/python3.7/dist-packages/seaborn/_decorators.py:43: FutureWarning: Pass the following variable as a keyword arg: x. From version 0.12, the only valid positional argument will be `data`, and passing other arguments without an explicit keyword will result in an error or misinterpretation.\n",
            "  FutureWarning\n",
            "/usr/local/lib/python3.7/dist-packages/seaborn/_decorators.py:43: FutureWarning: Pass the following variable as a keyword arg: x. From version 0.12, the only valid positional argument will be `data`, and passing other arguments without an explicit keyword will result in an error or misinterpretation.\n",
            "  FutureWarning\n",
            "/usr/local/lib/python3.7/dist-packages/seaborn/_decorators.py:43: FutureWarning: Pass the following variable as a keyword arg: x. From version 0.12, the only valid positional argument will be `data`, and passing other arguments without an explicit keyword will result in an error or misinterpretation.\n",
            "  FutureWarning\n",
            "/usr/local/lib/python3.7/dist-packages/seaborn/_decorators.py:43: FutureWarning: Pass the following variable as a keyword arg: x. From version 0.12, the only valid positional argument will be `data`, and passing other arguments without an explicit keyword will result in an error or misinterpretation.\n",
            "  FutureWarning\n",
            "/usr/local/lib/python3.7/dist-packages/seaborn/_decorators.py:43: FutureWarning: Pass the following variable as a keyword arg: x. From version 0.12, the only valid positional argument will be `data`, and passing other arguments without an explicit keyword will result in an error or misinterpretation.\n",
            "  FutureWarning\n",
            "WARNING: saving figure to file figures/stacked_violin_all_markers.pdf\n",
            "\n",
            "The arguments are:  Namespace(dpi=80, figsize=None, figure_type='pdf', func=<function plot_makers at 0x7f8e30c6ad40>, gene_list=['NANOG', 'POU5F1', 'PAX6', 'NES', 'MAP2', 'DCX', 'FOXG1', 'POU3F2', 'ACHE', 'CHAT', 'SLC18A3'], groupby='leiden', groups=None, input='after_ranking_gene.h5ad', n_genes=8, plot_type=['violin', 'dotplot', 'stacked_violin'], project='all_markers', show=False, use_raw=None)\n",
            "finished plotting\n"
          ],
          "name": "stdout"
        }
      ]
    },
    {
      "cell_type": "code",
      "metadata": {
        "colab": {
          "base_uri": "https://localhost:8080/"
        },
        "id": "GdZlXEHtXneM",
        "outputId": "a8cb1fae-6557-4917-86ad-07f642572f58"
      },
      "source": [
        "%ls -lth"
      ],
      "execution_count": 72,
      "outputs": [
        {
          "output_type": "stream",
          "text": [
            "total 1.3G\n",
            "drwx------ 2 root root 4.0K Mar  5 03:10 \u001b[0m\u001b[01;34mfigures\u001b[0m/\n",
            "-rw------- 1 root root 412M Mar  5 03:09 after_ranking_gene.h5ad\n",
            "-rw------- 1 root root  23K Mar  5 03:09 rank_genes_groups_r0.6.csv\n",
            "-rw------- 1 root root  19K Mar  5 03:08 rank_genes_groups_r0.4.csv\n",
            "-rw------- 1 root root 8.5K Mar  5 03:07 rank_genes_groups_r0.2.csv\n",
            "-rw------- 1 root root  30K Mar  5 03:06 rank_genes_groups.csv\n",
            "-rw------- 1 root root 412M Mar  5 03:05 after_leiden.h5ad\n",
            "-rw------- 1 root root 410M Mar  5 03:02 count_after_QC.h5ad\n",
            "drwx------ 2 root root 4.0K Mar  5 03:00 \u001b[01;34mcache\u001b[0m/\n"
          ],
          "name": "stdout"
        }
      ]
    },
    {
      "cell_type": "code",
      "metadata": {
        "colab": {
          "base_uri": "https://localhost:8080/"
        },
        "id": "xkQW8xt0Q48r",
        "outputId": "f6511579-7286-4085-bd7b-2a095eec470b"
      },
      "source": [
        "adata = sc.read_h5ad(\"after_ranking_gene.h5ad\")\n",
        "adata"
      ],
      "execution_count": 73,
      "outputs": [
        {
          "output_type": "execute_result",
          "data": {
            "text/plain": [
              "AnnData object with n_obs × n_vars = 6848 × 5567\n",
              "    obs: 'n_genes', 'n_genes_by_counts', 'total_counts', 'total_counts_mt', 'pct_counts_mt', 'leiden', 'leiden_0.2', 'leiden_0.4', 'leiden_0.6'\n",
              "    var: 'gene_ids', 'feature_types', 'n_cells', 'mt', 'n_cells_by_counts', 'mean_counts', 'pct_dropout_by_counts', 'total_counts', 'highly_variable', 'means', 'dispersions', 'dispersions_norm', 'mean', 'std'\n",
              "    uns: 'leiden', 'leiden_0.2_colors', 'leiden_0.4_colors', 'leiden_0.6_colors', 'leiden_colors', 'neighbors', 'pca', 'rank_genes_groups', 'rank_genes_groups_r0.2', 'rank_genes_groups_r0.4', 'rank_genes_groups_r0.6', 'umap'\n",
              "    obsm: 'X_pca', 'X_umap'\n",
              "    varm: 'PCs'\n",
              "    obsp: 'connectivities', 'distances'"
            ]
          },
          "metadata": {
            "tags": []
          },
          "execution_count": 73
        }
      ]
    },
    {
      "cell_type": "code",
      "metadata": {
        "colab": {
          "base_uri": "https://localhost:8080/"
        },
        "id": "6VXmA7q2Q68e",
        "outputId": "60c59728-227f-4db4-d153-15ff391b4335"
      },
      "source": [
        "for r in [\"0.2\", \"0.4\", \"0.6\"]:\n",
        "  the_type = calculate_types(adata, key=\"rank_genes_groups_r\"+r)\n",
        "  print(\"the cell types on the resolutions of \", r)\n",
        "  define_types(adata, the_type, leiden_r=\"leiden_\"+r)\n",
        "  print()"
      ],
      "execution_count": 74,
      "outputs": [
        {
          "output_type": "stream",
          "text": [
            "the cell types on the resolutions of  0.2\n",
            "Tanycytes               2132\n",
            "Neuroblasts             1719\n",
            "Adrenergic neurons      1336\n",
            "Radial glia cells       1280\n",
            "Bergmann glia            249\n",
            "Dopaminergic neurons     132\n",
            "Name: leiden_0.2_annotation, dtype: int64\n",
            "\n",
            "the cell types on the resolutions of  0.4\n",
            "Tanycytes                      1636\n",
            "Radial glia cells              1142\n",
            "Neurons                         894\n",
            "Glycinergic neurons             792\n",
            "Cholinergic neurons             653\n",
            "Bergmann glia                   572\n",
            "Adrenergic neurons              361\n",
            "Neuroblasts                     269\n",
            "Neural stem/precursor cells     225\n",
            "Meningeal cells                 166\n",
            "Glutaminergic neurons           138\n",
            "Name: leiden_0.4_annotation, dtype: int64\n",
            "\n",
            "the cell types on the resolutions of  0.6\n",
            "Tanycytes                      1628\n",
            "Radial glia cells              1143\n",
            "Neurons                         614\n",
            "Bergmann glia                   574\n",
            "Pyramidal cells                 566\n",
            "Glycinergic neurons             498\n",
            "Cholinergic neurons             490\n",
            "Adrenergic neurons              478\n",
            "Neuroblasts                     271\n",
            "Neural stem/precursor cells     269\n",
            "Meningeal cells                 169\n",
            "Glutaminergic neurons           148\n",
            "Name: leiden_0.6_annotation, dtype: int64\n",
            "\n"
          ],
          "name": "stdout"
        }
      ]
    },
    {
      "cell_type": "code",
      "metadata": {
        "colab": {
          "base_uri": "https://localhost:8080/"
        },
        "id": "_kv2OFm0VU1_",
        "outputId": "82f831bc-2fec-4998-f1f3-1cb38ed0a019"
      },
      "source": [
        "adata.write_h5ad(\"after_annotate.h5ad\")\n",
        "adata"
      ],
      "execution_count": 75,
      "outputs": [
        {
          "output_type": "stream",
          "text": [
            "... storing 'leiden_0.2_annotation' as categorical\n",
            "... storing 'leiden_0.4_annotation' as categorical\n",
            "... storing 'leiden_0.6_annotation' as categorical\n"
          ],
          "name": "stderr"
        },
        {
          "output_type": "execute_result",
          "data": {
            "text/plain": [
              "AnnData object with n_obs × n_vars = 6848 × 5567\n",
              "    obs: 'n_genes', 'n_genes_by_counts', 'total_counts', 'total_counts_mt', 'pct_counts_mt', 'leiden', 'leiden_0.2', 'leiden_0.4', 'leiden_0.6', 'leiden_0.2_annotation', 'leiden_0.4_annotation', 'leiden_0.6_annotation'\n",
              "    var: 'gene_ids', 'feature_types', 'n_cells', 'mt', 'n_cells_by_counts', 'mean_counts', 'pct_dropout_by_counts', 'total_counts', 'highly_variable', 'means', 'dispersions', 'dispersions_norm', 'mean', 'std'\n",
              "    uns: 'leiden', 'leiden_0.2_colors', 'leiden_0.4_colors', 'leiden_0.6_colors', 'leiden_colors', 'neighbors', 'pca', 'rank_genes_groups', 'rank_genes_groups_r0.2', 'rank_genes_groups_r0.4', 'rank_genes_groups_r0.6', 'umap'\n",
              "    obsm: 'X_pca', 'X_umap'\n",
              "    varm: 'PCs'\n",
              "    obsp: 'connectivities', 'distances'"
            ]
          },
          "metadata": {
            "tags": []
          },
          "execution_count": 75
        }
      ]
    }
  ]
}